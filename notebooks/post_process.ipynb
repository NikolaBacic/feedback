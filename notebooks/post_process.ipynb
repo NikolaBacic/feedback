{
 "cells": [
  {
   "cell_type": "markdown",
   "metadata": {},
   "source": [
    "### Developing postprocessing (decoding) logic"
   ]
  },
  {
   "cell_type": "code",
   "execution_count": 1,
   "metadata": {},
   "outputs": [],
   "source": [
    "import os\n",
    "import sys\n",
    "import pickle\n",
    "\n",
    "import pandas as pd\n",
    "import numpy as np\n",
    "\n",
    "import torch\n",
    "import torch.nn as nn\n",
    "\n",
    "import transformers\n",
    "\n",
    "from tqdm import tqdm\n",
    "import matplotlib.pyplot as plt\n",
    "\n",
    "# postprocess\n",
    "from decode import discourse_map_reverse\n",
    "\n",
    "sys.path.append('/home/backe/projects/feedback/')\n",
    "from utils_candidates import score_feedback_comp\n",
    "\n",
    "COLUMNS = ['id', 'class', 'predictionstring', 'prob_values', 'before_class', 'after_class']\n",
    "\n",
    "# os.environ['CUDA_VISIBLE_DEVICES'] = '1'"
   ]
  },
  {
   "cell_type": "markdown",
   "metadata": {},
   "source": [
    "### Get train validation data"
   ]
  },
  {
   "cell_type": "code",
   "execution_count": 2,
   "metadata": {},
   "outputs": [],
   "source": [
    "# VAL_DF\n",
    "TRAIN_PATH = '../data/train.csv'\n",
    "train_df = pd.read_csv(TRAIN_PATH)\n",
    "\n",
    "# # take just one fold\n",
    "# fold_ids = data_lf.loc[data_lf['kfold'] == param_lf['fold_idx'], 'id']\n",
    "# val_df = train_df[train_df['id'].isin(fold_ids)]"
   ]
  },
  {
   "cell_type": "code",
   "execution_count": 3,
   "metadata": {},
   "outputs": [],
   "source": [
    "with open('word_probs_lf.pickle', 'rb') as handle:\n",
    "    word_probs_lf = pickle.load(handle)\n",
    "    \n",
    "with open('word_probs_rl.pickle', 'rb') as handle:\n",
    "    word_probs_rl = pickle.load(handle)\n",
    "\n",
    "with open('word_probs_db.pickle', 'rb') as handle:\n",
    "    word_probs_db = pickle.load(handle)"
   ]
  },
  {
   "cell_type": "code",
   "execution_count": 4,
   "metadata": {},
   "outputs": [],
   "source": [
    "word_probs_all = {}\n",
    "\n",
    "for idx in word_probs_lf.keys():\n",
    "    \n",
    "    word_probs_all[idx] = np.mean((word_probs_lf[idx], word_probs_rl[idx], word_probs_db[idx]), axis=0)\n"
   ]
  },
  {
   "cell_type": "markdown",
   "metadata": {},
   "source": [
    "### Decoding - logic developing"
   ]
  },
  {
   "cell_type": "code",
   "execution_count": 5,
   "metadata": {},
   "outputs": [],
   "source": [
    "def high_mean(arr):\n",
    "    \n",
    "    n = arr.shape[0]\n",
    "    \n",
    "    return arr[arr.argsort()[-(n//2):][::-1]].mean()\n",
    "\n",
    "def group_consecutives(vals, step=1):\n",
    "    \"\"\"Return list of consecutive lists of numbers from vals (number list).\"\"\"\n",
    "    run = []\n",
    "    result = [run]\n",
    "    expect = None\n",
    "    for v in vals:\n",
    "        if (v == expect) or (expect is None):\n",
    "            run.append(v)\n",
    "        else:\n",
    "            run = [v]\n",
    "            result.append(run)\n",
    "        expect = v + step\n",
    "    return result\n",
    "\n",
    "def find_max_list(lst):\n",
    "    \"\"\" Return the index longest list of in the nested lists.\"\"\"\n",
    "    \n",
    "    lst_tmp = [len(x) for x in lst]\n",
    "    max_value = max(lst_tmp)\n",
    "    max_index = lst_tmp.index(max_value)\n",
    "    \n",
    "    return max_index\n",
    "\n",
    "import itertools\n",
    "\n",
    "def cartesian_product_itertools(arrays):\n",
    "    return np.array(list(itertools.product(*arrays)))"
   ]
  },
  {
   "cell_type": "markdown",
   "metadata": {},
   "source": [
    "### Lead and Position"
   ]
  },
  {
   "cell_type": "code",
   "execution_count": 6,
   "metadata": {},
   "outputs": [],
   "source": [
    "def cand_lead_position(idx, word_probs, p_start, p_end, label_idx):\n",
    "        \n",
    "    sample_preds = []\n",
    "\n",
    "    class_probs = word_probs[:, label_idx]\n",
    "        \n",
    "    # start index candidates\n",
    "    start_candidates = np.where(class_probs >= p_start)[0]\n",
    "    # end index candidates\n",
    "    end_candidates = np.where(class_probs >= p_end)[0]\n",
    "        \n",
    "    if (len(start_candidates)>0) and (len(end_candidates)>0):\n",
    "        start_idx = start_candidates[0]\n",
    "        end_idx = end_candidates[-1]\n",
    "        \n",
    "        if start_idx == 0:\n",
    "            before_class = 0\n",
    "        else:\n",
    "            helper_idx = max(0, start_idx-10)\n",
    "            before_class = word_probs[helper_idx:start_idx, :].mean(axis=0).argmax()\n",
    "        if end_idx == len(word_probs)-1:\n",
    "            after_class = 0\n",
    "        else:\n",
    "            after_class = word_probs[end_idx:end_idx+10, :].mean(axis=0).argmax()\n",
    "        \n",
    "        # format prediction\n",
    "        this_preds = [str(idx) for idx in range(start_idx, end_idx+1)]\n",
    "        this_preds = ' '.join(this_preds)\n",
    "        sample_preds.append([idx, discourse_map_reverse[label_idx], this_preds, class_probs[start_idx:end_idx+1],\n",
    "                             before_class, after_class])\n",
    "\n",
    "    return sample_preds\n"
   ]
  },
  {
   "cell_type": "markdown",
   "metadata": {},
   "source": [
    "### 1. Lead"
   ]
  },
  {
   "cell_type": "code",
   "execution_count": 7,
   "metadata": {},
   "outputs": [
    {
     "data": {
      "text/html": [
       "<div>\n",
       "<style scoped>\n",
       "    .dataframe tbody tr th:only-of-type {\n",
       "        vertical-align: middle;\n",
       "    }\n",
       "\n",
       "    .dataframe tbody tr th {\n",
       "        vertical-align: top;\n",
       "    }\n",
       "\n",
       "    .dataframe thead th {\n",
       "        text-align: right;\n",
       "    }\n",
       "</style>\n",
       "<table border=\"1\" class=\"dataframe\">\n",
       "  <thead>\n",
       "    <tr style=\"text-align: right;\">\n",
       "      <th></th>\n",
       "      <th>id</th>\n",
       "      <th>discourse_id</th>\n",
       "      <th>discourse_start</th>\n",
       "      <th>discourse_end</th>\n",
       "      <th>discourse_text</th>\n",
       "      <th>discourse_type</th>\n",
       "      <th>discourse_type_num</th>\n",
       "      <th>predictionstring</th>\n",
       "    </tr>\n",
       "  </thead>\n",
       "  <tbody>\n",
       "    <tr>\n",
       "      <th>0</th>\n",
       "      <td>423A1CA112E2</td>\n",
       "      <td>1.622628e+12</td>\n",
       "      <td>8.0</td>\n",
       "      <td>229.0</td>\n",
       "      <td>Modern humans today are always on their phone....</td>\n",
       "      <td>Lead</td>\n",
       "      <td>Lead 1</td>\n",
       "      <td>1 2 3 4 5 6 7 8 9 10 11 12 13 14 15 16 17 18 1...</td>\n",
       "    </tr>\n",
       "    <tr>\n",
       "      <th>14</th>\n",
       "      <td>6B4F7A0165B9</td>\n",
       "      <td>1.622644e+12</td>\n",
       "      <td>36.0</td>\n",
       "      <td>512.0</td>\n",
       "      <td>The ability to stay connected to people we kno...</td>\n",
       "      <td>Lead</td>\n",
       "      <td>Lead 1</td>\n",
       "      <td>5 6 7 8 9 10 11 12 13 14 15 16 17 18 19 20 21 ...</td>\n",
       "    </tr>\n",
       "    <tr>\n",
       "      <th>21</th>\n",
       "      <td>E05C7F5C1156</td>\n",
       "      <td>1.622838e+12</td>\n",
       "      <td>0.0</td>\n",
       "      <td>455.0</td>\n",
       "      <td>People are debating whether if drivers should ...</td>\n",
       "      <td>Lead</td>\n",
       "      <td>Lead 1</td>\n",
       "      <td>0 1 2 3 4 5 6 7 8 9 10 11 12 13 14 15 16 17 18...</td>\n",
       "    </tr>\n",
       "    <tr>\n",
       "      <th>33</th>\n",
       "      <td>50B3435E475B</td>\n",
       "      <td>1.622645e+12</td>\n",
       "      <td>21.0</td>\n",
       "      <td>379.0</td>\n",
       "      <td>Over half of drivers in today's society have t...</td>\n",
       "      <td>Lead</td>\n",
       "      <td>Lead 1</td>\n",
       "      <td>3 4 5 6 7 8 9 10 11 12 13 14 15 16 17 18 19 20...</td>\n",
       "    </tr>\n",
       "    <tr>\n",
       "      <th>42</th>\n",
       "      <td>DBF7EB6A9E02</td>\n",
       "      <td>1.622489e+12</td>\n",
       "      <td>52.0</td>\n",
       "      <td>200.0</td>\n",
       "      <td>Being on your device and driving could be an o...</td>\n",
       "      <td>Lead</td>\n",
       "      <td>Lead 1</td>\n",
       "      <td>9 10 11 12 13 14 15 16 17 18 19 20 21 22 23 24...</td>\n",
       "    </tr>\n",
       "  </tbody>\n",
       "</table>\n",
       "</div>"
      ],
      "text/plain": [
       "              id  discourse_id  discourse_start  discourse_end  \\\n",
       "0   423A1CA112E2  1.622628e+12              8.0          229.0   \n",
       "14  6B4F7A0165B9  1.622644e+12             36.0          512.0   \n",
       "21  E05C7F5C1156  1.622838e+12              0.0          455.0   \n",
       "33  50B3435E475B  1.622645e+12             21.0          379.0   \n",
       "42  DBF7EB6A9E02  1.622489e+12             52.0          200.0   \n",
       "\n",
       "                                       discourse_text discourse_type  \\\n",
       "0   Modern humans today are always on their phone....           Lead   \n",
       "14  The ability to stay connected to people we kno...           Lead   \n",
       "21  People are debating whether if drivers should ...           Lead   \n",
       "33  Over half of drivers in today's society have t...           Lead   \n",
       "42  Being on your device and driving could be an o...           Lead   \n",
       "\n",
       "   discourse_type_num                                   predictionstring  \n",
       "0              Lead 1  1 2 3 4 5 6 7 8 9 10 11 12 13 14 15 16 17 18 1...  \n",
       "14             Lead 1  5 6 7 8 9 10 11 12 13 14 15 16 17 18 19 20 21 ...  \n",
       "21             Lead 1  0 1 2 3 4 5 6 7 8 9 10 11 12 13 14 15 16 17 18...  \n",
       "33             Lead 1  3 4 5 6 7 8 9 10 11 12 13 14 15 16 17 18 19 20...  \n",
       "42             Lead 1  9 10 11 12 13 14 15 16 17 18 19 20 21 22 23 24...  "
      ]
     },
     "execution_count": 7,
     "metadata": {},
     "output_type": "execute_result"
    }
   ],
   "source": [
    "lead_filt = (train_df['discourse_type'] == 'Lead')\n",
    "lead_df = train_df[lead_filt]\n",
    "lead_df.head()"
   ]
  },
  {
   "cell_type": "code",
   "execution_count": 8,
   "metadata": {},
   "outputs": [],
   "source": [
    "lead_info = {\n",
    "    'p_start': 0.26,\n",
    "    'p_end': 0.45,\n",
    "}"
   ]
  },
  {
   "cell_type": "code",
   "execution_count": 9,
   "metadata": {},
   "outputs": [
    {
     "name": "stdout",
     "output_type": "stream",
     "text": [
      "0.848767403244348\n",
      "CPU times: user 764 ms, sys: 65.9 ms, total: 830 ms\n",
      "Wall time: 828 ms\n"
     ]
    }
   ],
   "source": [
    "%%time\n",
    "\n",
    "class_preds = []\n",
    "\n",
    "for idx in word_probs_all.keys():\n",
    "    \n",
    "    word_probs = word_probs_all[idx]\n",
    "\n",
    "    class_preds += cand_lead_position(idx, word_probs, lead_info['p_start'], lead_info['p_end'], 7)\n",
    "\n",
    "lead_preds_df = pd.DataFrame(class_preds, columns=COLUMNS)\n",
    "\n",
    "score = score_feedback_comp(lead_preds_df, lead_df)\n",
    "print(score)"
   ]
  },
  {
   "cell_type": "code",
   "execution_count": 10,
   "metadata": {},
   "outputs": [
    {
     "name": "stdout",
     "output_type": "stream",
     "text": [
      "(100, 2)\n"
     ]
    },
    {
     "name": "stderr",
     "output_type": "stream",
     "text": [
      "100%|██████████| 100/100 [01:20<00:00,  1.24it/s]"
     ]
    },
    {
     "name": "stdout",
     "output_type": "stream",
     "text": [
      "Lead best: (0.8521388387644624, 0.2, 0.4)\n"
     ]
    },
    {
     "name": "stderr",
     "output_type": "stream",
     "text": [
      "\n"
     ]
    }
   ],
   "source": [
    "p_starts_cand = np.arange(0.2, 0.3, step=0.01)\n",
    "p_ends_cand = np.arange(0.4, 0.5, step=0.01)\n",
    "\n",
    "candidates = cartesian_product_itertools([p_starts_cand, p_ends_cand])\n",
    "print(candidates.shape)\n",
    "\n",
    "best_score = 0\n",
    "best_p_start = None\n",
    "best_p_end = None\n",
    "\n",
    "for p_start, p_end in tqdm(candidates):\n",
    "    \n",
    "    class_preds = []\n",
    "\n",
    "    for idx in word_probs_all.keys():\n",
    "\n",
    "        word_probs = word_probs_all[idx]\n",
    "    \n",
    "        class_preds += cand_lead_position(idx, word_probs, p_start, p_end, 7)\n",
    "\n",
    "    lead_preds_df = pd.DataFrame(class_preds, columns=COLUMNS)\n",
    "    \n",
    "    score = score_feedback_comp(lead_preds_df, lead_df)\n",
    "    \n",
    "    if score > best_score:\n",
    "        best_score = score\n",
    "        best_p_start = p_start\n",
    "        best_p_end = p_end\n",
    "        \n",
    "print(f'Lead best: {best_score, best_p_start, best_p_end}')"
   ]
  },
  {
   "cell_type": "markdown",
   "metadata": {},
   "source": [
    "### 2. Position"
   ]
  },
  {
   "cell_type": "code",
   "execution_count": 11,
   "metadata": {},
   "outputs": [
    {
     "data": {
      "text/html": [
       "<div>\n",
       "<style scoped>\n",
       "    .dataframe tbody tr th:only-of-type {\n",
       "        vertical-align: middle;\n",
       "    }\n",
       "\n",
       "    .dataframe tbody tr th {\n",
       "        vertical-align: top;\n",
       "    }\n",
       "\n",
       "    .dataframe thead th {\n",
       "        text-align: right;\n",
       "    }\n",
       "</style>\n",
       "<table border=\"1\" class=\"dataframe\">\n",
       "  <thead>\n",
       "    <tr style=\"text-align: right;\">\n",
       "      <th></th>\n",
       "      <th>id</th>\n",
       "      <th>discourse_id</th>\n",
       "      <th>discourse_start</th>\n",
       "      <th>discourse_end</th>\n",
       "      <th>discourse_text</th>\n",
       "      <th>discourse_type</th>\n",
       "      <th>discourse_type_num</th>\n",
       "      <th>predictionstring</th>\n",
       "    </tr>\n",
       "  </thead>\n",
       "  <tbody>\n",
       "    <tr>\n",
       "      <th>1</th>\n",
       "      <td>423A1CA112E2</td>\n",
       "      <td>1.622628e+12</td>\n",
       "      <td>230.0</td>\n",
       "      <td>312.0</td>\n",
       "      <td>They are some really bad consequences when stu...</td>\n",
       "      <td>Position</td>\n",
       "      <td>Position 1</td>\n",
       "      <td>45 46 47 48 49 50 51 52 53 54 55 56 57 58 59</td>\n",
       "    </tr>\n",
       "    <tr>\n",
       "      <th>10</th>\n",
       "      <td>A8445CABFECE</td>\n",
       "      <td>1.622576e+12</td>\n",
       "      <td>18.0</td>\n",
       "      <td>85.0</td>\n",
       "      <td>Drivers should not be able to use phones while...</td>\n",
       "      <td>Position</td>\n",
       "      <td>Position 1</td>\n",
       "      <td>3 4 5 6 7 8 9 10 11 12 13 14</td>\n",
       "    </tr>\n",
       "    <tr>\n",
       "      <th>15</th>\n",
       "      <td>6B4F7A0165B9</td>\n",
       "      <td>1.622644e+12</td>\n",
       "      <td>513.0</td>\n",
       "      <td>593.0</td>\n",
       "      <td>However, this device is taken to areas that i...</td>\n",
       "      <td>Position</td>\n",
       "      <td>Position 1</td>\n",
       "      <td>92 93 94 95 96 97 98 99 100 101 102 103 104</td>\n",
       "    </tr>\n",
       "    <tr>\n",
       "      <th>22</th>\n",
       "      <td>E05C7F5C1156</td>\n",
       "      <td>1.622838e+12</td>\n",
       "      <td>455.0</td>\n",
       "      <td>527.0</td>\n",
       "      <td>I also think that you shouldn't use your phone...</td>\n",
       "      <td>Position</td>\n",
       "      <td>Position 1</td>\n",
       "      <td>77 78 79 80 81 82 83 84 85 86 87 88 89</td>\n",
       "    </tr>\n",
       "    <tr>\n",
       "      <th>34</th>\n",
       "      <td>50B3435E475B</td>\n",
       "      <td>1.622645e+12</td>\n",
       "      <td>380.0</td>\n",
       "      <td>460.0</td>\n",
       "      <td>I strongly feel that texting and driving is da...</td>\n",
       "      <td>Position</td>\n",
       "      <td>Position 1</td>\n",
       "      <td>63 64 65 66 67 68 69 70 71 72 73 74 75</td>\n",
       "    </tr>\n",
       "  </tbody>\n",
       "</table>\n",
       "</div>"
      ],
      "text/plain": [
       "              id  discourse_id  discourse_start  discourse_end  \\\n",
       "1   423A1CA112E2  1.622628e+12            230.0          312.0   \n",
       "10  A8445CABFECE  1.622576e+12             18.0           85.0   \n",
       "15  6B4F7A0165B9  1.622644e+12            513.0          593.0   \n",
       "22  E05C7F5C1156  1.622838e+12            455.0          527.0   \n",
       "34  50B3435E475B  1.622645e+12            380.0          460.0   \n",
       "\n",
       "                                       discourse_text discourse_type  \\\n",
       "1   They are some really bad consequences when stu...       Position   \n",
       "10  Drivers should not be able to use phones while...       Position   \n",
       "15   However, this device is taken to areas that i...       Position   \n",
       "22  I also think that you shouldn't use your phone...       Position   \n",
       "34  I strongly feel that texting and driving is da...       Position   \n",
       "\n",
       "   discourse_type_num                              predictionstring  \n",
       "1          Position 1  45 46 47 48 49 50 51 52 53 54 55 56 57 58 59  \n",
       "10         Position 1                  3 4 5 6 7 8 9 10 11 12 13 14  \n",
       "15         Position 1   92 93 94 95 96 97 98 99 100 101 102 103 104  \n",
       "22         Position 1        77 78 79 80 81 82 83 84 85 86 87 88 89  \n",
       "34         Position 1        63 64 65 66 67 68 69 70 71 72 73 74 75  "
      ]
     },
     "execution_count": 11,
     "metadata": {},
     "output_type": "execute_result"
    }
   ],
   "source": [
    "position_filt = (train_df['discourse_type'] == 'Position')\n",
    "position_df = train_df[position_filt]\n",
    "position_df.head()"
   ]
  },
  {
   "cell_type": "code",
   "execution_count": 12,
   "metadata": {},
   "outputs": [],
   "source": [
    "pos_info = {\n",
    "    'p_start': 0.51,\n",
    "    'p_end': 0.46,\n",
    "}"
   ]
  },
  {
   "cell_type": "code",
   "execution_count": 13,
   "metadata": {},
   "outputs": [
    {
     "name": "stdout",
     "output_type": "stream",
     "text": [
      "0.7031959264765865\n"
     ]
    }
   ],
   "source": [
    "class_preds = []\n",
    "    \n",
    "for idx in word_probs_all.keys():\n",
    "    \n",
    "    word_probs = word_probs_all[idx]\n",
    "\n",
    "    class_preds += cand_lead_position(idx, word_probs, pos_info['p_start'], pos_info['p_end'], 5)\n",
    "\n",
    "position_preds_df = pd.DataFrame(class_preds, columns=COLUMNS)\n",
    "\n",
    "score = score_feedback_comp(position_preds_df, position_df)\n",
    "print(score)"
   ]
  },
  {
   "cell_type": "code",
   "execution_count": 14,
   "metadata": {},
   "outputs": [
    {
     "name": "stdout",
     "output_type": "stream",
     "text": [
      "(80, 2)\n"
     ]
    },
    {
     "name": "stderr",
     "output_type": "stream",
     "text": [
      "100%|██████████| 80/80 [01:10<00:00,  1.13it/s]"
     ]
    },
    {
     "name": "stdout",
     "output_type": "stream",
     "text": [
      "Position best: (0.7040857844102322, 0.47000000000000003, 0.4700000000000001)\n"
     ]
    },
    {
     "name": "stderr",
     "output_type": "stream",
     "text": [
      "\n"
     ]
    }
   ],
   "source": [
    "p_starts_cand = np.arange(0.45, 0.5, step=0.01)\n",
    "p_ends_cand = np.arange(0.4, 0.55, step=0.01)\n",
    "\n",
    "candidates = cartesian_product_itertools([p_starts_cand, p_ends_cand])\n",
    "print(candidates.shape)\n",
    "\n",
    "best_score = 0\n",
    "best_p_start = None\n",
    "best_p_end = None\n",
    "\n",
    "for p_start, p_end in tqdm(candidates):\n",
    "    \n",
    "    class_preds = []\n",
    "\n",
    "    for idx in word_probs_all.keys():\n",
    "\n",
    "        word_probs = word_probs_all[idx]\n",
    "    \n",
    "        class_preds += cand_lead_position(idx, word_probs, p_start, p_end, 5)\n",
    "\n",
    "    pos_preds_df = pd.DataFrame(class_preds, columns=COLUMNS)\n",
    "    \n",
    "    score = score_feedback_comp(pos_preds_df, position_df)\n",
    "    \n",
    "    if score > best_score:\n",
    "        best_score = score\n",
    "        best_p_start = p_start\n",
    "        best_p_end = p_end\n",
    "        \n",
    "print(f'Position best: {best_score, best_p_start, best_p_end}')"
   ]
  },
  {
   "cell_type": "code",
   "execution_count": null,
   "metadata": {},
   "outputs": [],
   "source": []
  },
  {
   "cell_type": "markdown",
   "metadata": {},
   "source": [
    "### 3. Concluding Statement (0.8749)"
   ]
  },
  {
   "cell_type": "code",
   "execution_count": 15,
   "metadata": {},
   "outputs": [
    {
     "data": {
      "text/html": [
       "<div>\n",
       "<style scoped>\n",
       "    .dataframe tbody tr th:only-of-type {\n",
       "        vertical-align: middle;\n",
       "    }\n",
       "\n",
       "    .dataframe tbody tr th {\n",
       "        vertical-align: top;\n",
       "    }\n",
       "\n",
       "    .dataframe thead th {\n",
       "        text-align: right;\n",
       "    }\n",
       "</style>\n",
       "<table border=\"1\" class=\"dataframe\">\n",
       "  <thead>\n",
       "    <tr style=\"text-align: right;\">\n",
       "      <th></th>\n",
       "      <th>id</th>\n",
       "      <th>discourse_id</th>\n",
       "      <th>discourse_start</th>\n",
       "      <th>discourse_end</th>\n",
       "      <th>discourse_text</th>\n",
       "      <th>discourse_type</th>\n",
       "      <th>discourse_type_num</th>\n",
       "      <th>predictionstring</th>\n",
       "    </tr>\n",
       "  </thead>\n",
       "  <tbody>\n",
       "    <tr>\n",
       "      <th>9</th>\n",
       "      <td>423A1CA112E2</td>\n",
       "      <td>1.622628e+12</td>\n",
       "      <td>1891.0</td>\n",
       "      <td>2027.0</td>\n",
       "      <td>The news always updated when people do somethi...</td>\n",
       "      <td>Concluding Statement</td>\n",
       "      <td>Concluding Statement 1</td>\n",
       "      <td>355 356 357 358 359 360 361 362 363 364 365 36...</td>\n",
       "    </tr>\n",
       "    <tr>\n",
       "      <th>13</th>\n",
       "      <td>A8445CABFECE</td>\n",
       "      <td>1.622576e+12</td>\n",
       "      <td>1031.0</td>\n",
       "      <td>1243.0</td>\n",
       "      <td>In conclusion, drivers should not able to work...</td>\n",
       "      <td>Concluding Statement</td>\n",
       "      <td>Concluding Statement 1</td>\n",
       "      <td>177 178 179 180 181 182 183 184 185 186 187 18...</td>\n",
       "    </tr>\n",
       "    <tr>\n",
       "      <th>20</th>\n",
       "      <td>6B4F7A0165B9</td>\n",
       "      <td>1.622644e+12</td>\n",
       "      <td>1682.0</td>\n",
       "      <td>1906.0</td>\n",
       "      <td>The creation of telecommunication devices was ...</td>\n",
       "      <td>Concluding Statement</td>\n",
       "      <td>Concluding Statement 1</td>\n",
       "      <td>296 297 298 299 300 301 302 303 304 305 306 30...</td>\n",
       "    </tr>\n",
       "    <tr>\n",
       "      <th>32</th>\n",
       "      <td>E05C7F5C1156</td>\n",
       "      <td>1.622839e+12</td>\n",
       "      <td>2878.0</td>\n",
       "      <td>3513.0</td>\n",
       "      <td>In conclusion, people shouldn't use cellphones...</td>\n",
       "      <td>Concluding Statement</td>\n",
       "      <td>Concluding Statement 1</td>\n",
       "      <td>478 479 480 481 482 483 484 485 486 487 488 48...</td>\n",
       "    </tr>\n",
       "    <tr>\n",
       "      <th>41</th>\n",
       "      <td>50B3435E475B</td>\n",
       "      <td>1.622645e+12</td>\n",
       "      <td>1914.0</td>\n",
       "      <td>2047.0</td>\n",
       "      <td>Over all texting and driving is dangerous, has...</td>\n",
       "      <td>Concluding Statement</td>\n",
       "      <td>Concluding Statement 1</td>\n",
       "      <td>328 329 330 331 332 333 334 335 336 337 338 33...</td>\n",
       "    </tr>\n",
       "  </tbody>\n",
       "</table>\n",
       "</div>"
      ],
      "text/plain": [
       "              id  discourse_id  discourse_start  discourse_end  \\\n",
       "9   423A1CA112E2  1.622628e+12           1891.0         2027.0   \n",
       "13  A8445CABFECE  1.622576e+12           1031.0         1243.0   \n",
       "20  6B4F7A0165B9  1.622644e+12           1682.0         1906.0   \n",
       "32  E05C7F5C1156  1.622839e+12           2878.0         3513.0   \n",
       "41  50B3435E475B  1.622645e+12           1914.0         2047.0   \n",
       "\n",
       "                                       discourse_text        discourse_type  \\\n",
       "9   The news always updated when people do somethi...  Concluding Statement   \n",
       "13  In conclusion, drivers should not able to work...  Concluding Statement   \n",
       "20  The creation of telecommunication devices was ...  Concluding Statement   \n",
       "32  In conclusion, people shouldn't use cellphones...  Concluding Statement   \n",
       "41  Over all texting and driving is dangerous, has...  Concluding Statement   \n",
       "\n",
       "        discourse_type_num                                   predictionstring  \n",
       "9   Concluding Statement 1  355 356 357 358 359 360 361 362 363 364 365 36...  \n",
       "13  Concluding Statement 1  177 178 179 180 181 182 183 184 185 186 187 18...  \n",
       "20  Concluding Statement 1  296 297 298 299 300 301 302 303 304 305 306 30...  \n",
       "32  Concluding Statement 1  478 479 480 481 482 483 484 485 486 487 488 48...  \n",
       "41  Concluding Statement 1  328 329 330 331 332 333 334 335 336 337 338 33...  "
      ]
     },
     "execution_count": 15,
     "metadata": {},
     "output_type": "execute_result"
    }
   ],
   "source": [
    "conc_filt = (train_df['discourse_type'] == 'Concluding Statement')\n",
    "conclude_df = train_df[conc_filt]\n",
    "conclude_df.head()"
   ]
  },
  {
   "cell_type": "code",
   "execution_count": 16,
   "metadata": {},
   "outputs": [],
   "source": [
    "def cand_conc_stat(idx, word_probs, min_word_prob, label_idx=6):\n",
    "        \n",
    "    sample_preds = []\n",
    "    \n",
    "    class_probs = word_probs[:, label_idx]\n",
    "    \n",
    "    candidates = np.where(class_probs >= min_word_prob)[0]\n",
    "        \n",
    "    if candidates.size > 1:\n",
    "        \n",
    "        candidates = group_consecutives(candidates)\n",
    "        \n",
    "        max_index = find_max_list(candidates)\n",
    "        best_candidate = candidates[max_index]\n",
    "        \n",
    "        start_idx = best_candidate[0]\n",
    "        end_idx = best_candidate[-1]\n",
    "        \n",
    "        if start_idx == 0:\n",
    "            before_class = 0\n",
    "        else:\n",
    "            helper_idx = max(0, start_idx-10)\n",
    "            before_class = word_probs[helper_idx:start_idx, :].mean(axis=0).argmax()\n",
    "        if end_idx == len(word_probs)-1:\n",
    "            after_class = 0\n",
    "        else:\n",
    "            after_class = word_probs[end_idx:end_idx+10, :].mean(axis=0).argmax()\n",
    "\n",
    "        \n",
    "        # format prediction\n",
    "        this_preds = [str(idx) for idx in range(start_idx, end_idx+1)]\n",
    "        this_preds = ' '.join(this_preds)\n",
    "        sample_preds.append([idx, discourse_map_reverse[label_idx], this_preds, class_probs[start_idx:end_idx+1], \n",
    "                            before_class, after_class])\n",
    "\n",
    "    return sample_preds\n"
   ]
  },
  {
   "cell_type": "code",
   "execution_count": 17,
   "metadata": {},
   "outputs": [],
   "source": [
    "conc_info = {\n",
    "    'min_word_prob': 0.37,\n",
    "}"
   ]
  },
  {
   "cell_type": "code",
   "execution_count": 18,
   "metadata": {},
   "outputs": [
    {
     "name": "stdout",
     "output_type": "stream",
     "text": [
      "0.8805155664794008\n"
     ]
    }
   ],
   "source": [
    "class_preds = []\n",
    "\n",
    "for idx in word_probs_all.keys():\n",
    "    \n",
    "    word_probs = word_probs_all[idx]\n",
    "\n",
    "    class_preds += cand_conc_stat(idx, word_probs, conc_info['min_word_prob'])\n",
    "\n",
    "conc_preds_df = pd.DataFrame(class_preds, columns=COLUMNS)\n",
    "\n",
    "score = score_feedback_comp(conc_preds_df, conclude_df)\n",
    "print(score)"
   ]
  },
  {
   "cell_type": "code",
   "execution_count": 19,
   "metadata": {},
   "outputs": [
    {
     "name": "stdout",
     "output_type": "stream",
     "text": [
      "(10, 1)\n"
     ]
    },
    {
     "name": "stderr",
     "output_type": "stream",
     "text": [
      "100%|██████████| 10/10 [00:18<00:00,  1.87s/it]"
     ]
    },
    {
     "name": "stdout",
     "output_type": "stream",
     "text": [
      "Concluding Statement best: (0.8820693383201601, array([0.33]))\n"
     ]
    },
    {
     "name": "stderr",
     "output_type": "stream",
     "text": [
      "\n"
     ]
    }
   ],
   "source": [
    "min_word_prob_cand = np.arange(0.25, 0.35, step=0.01)\n",
    "\n",
    "candidates = cartesian_product_itertools([min_word_prob_cand])\n",
    "print(candidates.shape)\n",
    "\n",
    "best_score = 0\n",
    "best_min_word_prob = None\n",
    "\n",
    "for min_word_prob in tqdm(candidates):\n",
    "    \n",
    "    class_preds = []\n",
    "\n",
    "    for idx in word_probs_all.keys():\n",
    "\n",
    "        word_probs = word_probs_all[idx]\n",
    "    \n",
    "        class_preds += cand_conc_stat(idx, word_probs, min_word_prob)\n",
    "\n",
    "    conc_preds_df = pd.DataFrame(class_preds, columns=COLUMNS)\n",
    "    \n",
    "    score = score_feedback_comp(conc_preds_df, conclude_df)\n",
    "    \n",
    "    if score > best_score:\n",
    "        best_score = score\n",
    "        best_min_word_prob = min_word_prob\n",
    "        \n",
    "print(f'Concluding Statement best: {best_score, best_min_word_prob}')"
   ]
  },
  {
   "cell_type": "markdown",
   "metadata": {},
   "source": [
    "### Claim and evidence"
   ]
  },
  {
   "cell_type": "code",
   "execution_count": 20,
   "metadata": {},
   "outputs": [],
   "source": [
    "def cand_claim_evidence(idx, word_probs, start_label, body_label, min_conf):\n",
    "    \n",
    "    sample_preds = []\n",
    "    \n",
    "    start_probs = word_probs[:, start_label]\n",
    "    body_probs = word_probs[:, body_label]\n",
    "\n",
    "    word_preds = word_probs.argmax(1)\n",
    "    \n",
    "    num_words = len(word_preds)\n",
    "    \n",
    "    # clean word preds\n",
    "    for i in range(1, num_words-1):\n",
    "        if (word_preds[i-1] == 1 and  word_preds[i+1] == 1):\n",
    "            if word_preds[i] == 3:\n",
    "                word_preds[i] = 1\n",
    "    # clean word preds\n",
    "    for i in range(1, num_words-1):\n",
    "        if (word_preds[i-1] == 3 and  word_preds[i+1] == 3):\n",
    "            if word_preds[i] == 1:\n",
    "                word_preds[i] = 3       \n",
    "\n",
    "    start_positions = np.where(word_preds==start_label)[0]\n",
    "    \n",
    "    add_start = [i for i in range(1, num_words-1)\n",
    "             if (word_preds[i] == body_label and word_preds[i-1] != body_label and word_preds[i-1] != start_label)]\n",
    "    add_start = np.array(add_start)\n",
    "    start_positions = np.append(start_positions, add_start).astype(int)\n",
    "\n",
    "    for start_idx in start_positions:\n",
    "        end_idx = start_idx\n",
    "        \n",
    "        while (end_idx != num_words-1) and (word_preds[end_idx+1] == body_label):\n",
    "            end_idx += 1\n",
    "            \n",
    "        if start_idx == 0:\n",
    "            before_class = 0\n",
    "        else:\n",
    "            helper_idx = max(0, start_idx-10)\n",
    "            before_class = word_probs[helper_idx:start_idx, :].mean(axis=0).argmax()\n",
    "        if end_idx == len(word_probs)-1:\n",
    "            after_class = 0\n",
    "        else:\n",
    "            after_class = word_probs[end_idx:end_idx+10, :].mean(axis=0).argmax()\n",
    "\n",
    "        # format prediction\n",
    "        this_preds = [str(idx) for idx in range(start_idx, end_idx+1)]\n",
    "        this_preds = ' '.join(this_preds)\n",
    "        sample_preds.append([idx, discourse_map_reverse[body_label], this_preds, np.append(start_probs[start_idx], body_probs[start_idx+1:end_idx+1]),\n",
    "                            before_class, after_class])\n",
    "    \n",
    "    return sample_preds\n"
   ]
  },
  {
   "cell_type": "markdown",
   "metadata": {},
   "source": [
    "### 4. Claim (0.6678)"
   ]
  },
  {
   "cell_type": "code",
   "execution_count": 21,
   "metadata": {},
   "outputs": [
    {
     "data": {
      "text/html": [
       "<div>\n",
       "<style scoped>\n",
       "    .dataframe tbody tr th:only-of-type {\n",
       "        vertical-align: middle;\n",
       "    }\n",
       "\n",
       "    .dataframe tbody tr th {\n",
       "        vertical-align: top;\n",
       "    }\n",
       "\n",
       "    .dataframe thead th {\n",
       "        text-align: right;\n",
       "    }\n",
       "</style>\n",
       "<table border=\"1\" class=\"dataframe\">\n",
       "  <thead>\n",
       "    <tr style=\"text-align: right;\">\n",
       "      <th></th>\n",
       "      <th>id</th>\n",
       "      <th>discourse_id</th>\n",
       "      <th>discourse_start</th>\n",
       "      <th>discourse_end</th>\n",
       "      <th>discourse_text</th>\n",
       "      <th>discourse_type</th>\n",
       "      <th>discourse_type_num</th>\n",
       "      <th>predictionstring</th>\n",
       "    </tr>\n",
       "  </thead>\n",
       "  <tbody>\n",
       "    <tr>\n",
       "      <th>4</th>\n",
       "      <td>423A1CA112E2</td>\n",
       "      <td>1.622628e+12</td>\n",
       "      <td>759.0</td>\n",
       "      <td>886.0</td>\n",
       "      <td>Driving is one of the way how to get around. P...</td>\n",
       "      <td>Claim</td>\n",
       "      <td>Claim 1</td>\n",
       "      <td>139 140 141 142 143 144 145 146 147 148 149 15...</td>\n",
       "    </tr>\n",
       "    <tr>\n",
       "      <th>7</th>\n",
       "      <td>423A1CA112E2</td>\n",
       "      <td>1.622628e+12</td>\n",
       "      <td>1534.0</td>\n",
       "      <td>1602.0</td>\n",
       "      <td>Phones are fine to use and it's also the best ...</td>\n",
       "      <td>Claim</td>\n",
       "      <td>Claim 2</td>\n",
       "      <td>282 283 284 285 286 287 288 289 290 291 292 29...</td>\n",
       "    </tr>\n",
       "    <tr>\n",
       "      <th>11</th>\n",
       "      <td>A8445CABFECE</td>\n",
       "      <td>1.622576e+12</td>\n",
       "      <td>86.0</td>\n",
       "      <td>202.0</td>\n",
       "      <td>Drivers who used their phone while operating a...</td>\n",
       "      <td>Claim</td>\n",
       "      <td>Claim 1</td>\n",
       "      <td>15 16 17 18 19 20 21 22 23 24 25 26 27 28 29 3...</td>\n",
       "    </tr>\n",
       "    <tr>\n",
       "      <th>16</th>\n",
       "      <td>6B4F7A0165B9</td>\n",
       "      <td>1.622644e+12</td>\n",
       "      <td>594.0</td>\n",
       "      <td>726.0</td>\n",
       "      <td>Within a vehicle capable of traveling upwards ...</td>\n",
       "      <td>Claim</td>\n",
       "      <td>Claim 1</td>\n",
       "      <td>105 106 107 108 109 110 111 112 113 114 115 11...</td>\n",
       "    </tr>\n",
       "    <tr>\n",
       "      <th>23</th>\n",
       "      <td>E05C7F5C1156</td>\n",
       "      <td>1.622838e+12</td>\n",
       "      <td>528.0</td>\n",
       "      <td>568.0</td>\n",
       "      <td>because it can cause vehicle collisions</td>\n",
       "      <td>Claim</td>\n",
       "      <td>Claim 1</td>\n",
       "      <td>90 91 92 93 94 95</td>\n",
       "    </tr>\n",
       "  </tbody>\n",
       "</table>\n",
       "</div>"
      ],
      "text/plain": [
       "              id  discourse_id  discourse_start  discourse_end  \\\n",
       "4   423A1CA112E2  1.622628e+12            759.0          886.0   \n",
       "7   423A1CA112E2  1.622628e+12           1534.0         1602.0   \n",
       "11  A8445CABFECE  1.622576e+12             86.0          202.0   \n",
       "16  6B4F7A0165B9  1.622644e+12            594.0          726.0   \n",
       "23  E05C7F5C1156  1.622838e+12            528.0          568.0   \n",
       "\n",
       "                                       discourse_text discourse_type  \\\n",
       "4   Driving is one of the way how to get around. P...          Claim   \n",
       "7   Phones are fine to use and it's also the best ...          Claim   \n",
       "11  Drivers who used their phone while operating a...          Claim   \n",
       "16  Within a vehicle capable of traveling upwards ...          Claim   \n",
       "23           because it can cause vehicle collisions           Claim   \n",
       "\n",
       "   discourse_type_num                                   predictionstring  \n",
       "4             Claim 1  139 140 141 142 143 144 145 146 147 148 149 15...  \n",
       "7             Claim 2  282 283 284 285 286 287 288 289 290 291 292 29...  \n",
       "11            Claim 1  15 16 17 18 19 20 21 22 23 24 25 26 27 28 29 3...  \n",
       "16            Claim 1  105 106 107 108 109 110 111 112 113 114 115 11...  \n",
       "23            Claim 1                                  90 91 92 93 94 95  "
      ]
     },
     "execution_count": 21,
     "metadata": {},
     "output_type": "execute_result"
    }
   ],
   "source": [
    "claim_filt = (train_df['discourse_type'] == 'Claim')\n",
    "claim_df = train_df[claim_filt]\n",
    "claim_df.head()"
   ]
  },
  {
   "cell_type": "code",
   "execution_count": 22,
   "metadata": {},
   "outputs": [],
   "source": [
    "claim_info = {\n",
    "    'min_conf': 0.53,\n",
    "}"
   ]
  },
  {
   "cell_type": "code",
   "execution_count": 23,
   "metadata": {},
   "outputs": [
    {
     "name": "stdout",
     "output_type": "stream",
     "text": [
      "CPU times: user 15.4 s, sys: 172 ms, total: 15.5 s\n",
      "Wall time: 15.5 s\n"
     ]
    },
    {
     "data": {
      "text/plain": [
       "0.6419410917020579"
      ]
     },
     "execution_count": 23,
     "metadata": {},
     "output_type": "execute_result"
    }
   ],
   "source": [
    "%%time\n",
    "\n",
    "class_preds = []\n",
    "\n",
    "for idx in word_probs_all.keys():\n",
    "\n",
    "    word_probs = word_probs_all[idx]\n",
    "\n",
    "    class_preds += cand_claim_evidence(idx, word_probs, 2, 1, claim_info['min_conf'])\n",
    "\n",
    "claim_preds_df = pd.DataFrame(class_preds, columns=COLUMNS)\n",
    "\n",
    "score = score_feedback_comp(claim_preds_df, claim_df)\n",
    "score"
   ]
  },
  {
   "cell_type": "code",
   "execution_count": 24,
   "metadata": {},
   "outputs": [
    {
     "name": "stdout",
     "output_type": "stream",
     "text": [
      "(11, 1)\n"
     ]
    },
    {
     "name": "stderr",
     "output_type": "stream",
     "text": [
      "100%|██████████| 11/11 [02:50<00:00, 15.53s/it]"
     ]
    },
    {
     "name": "stdout",
     "output_type": "stream",
     "text": [
      "Claim best: (0.6419410917020579, array([0.3]))\n"
     ]
    },
    {
     "name": "stderr",
     "output_type": "stream",
     "text": [
      "\n"
     ]
    }
   ],
   "source": [
    "min_conf_cand = np.arange(0.3, 0.4, step=0.01)\n",
    "\n",
    "candidates = cartesian_product_itertools([min_conf_cand])\n",
    "print(candidates.shape)\n",
    "\n",
    "best_score = 0\n",
    "best_min_conf = None\n",
    "\n",
    "for min_conf in tqdm(candidates):\n",
    "    \n",
    "    class_preds = []\n",
    "\n",
    "    for idx in word_probs_all.keys():\n",
    "\n",
    "        word_probs = word_probs_all[idx]\n",
    "    \n",
    "        class_preds += cand_claim_evidence(idx, word_probs, 2, 1, min_conf)\n",
    "\n",
    "    claim_preds_df = pd.DataFrame(class_preds, columns=COLUMNS)\n",
    "    \n",
    "    score = score_feedback_comp(claim_preds_df, claim_df)\n",
    "    \n",
    "    if score > best_score:\n",
    "        best_score = score\n",
    "        best_min_conf = min_conf\n",
    "        \n",
    "print(f'Claim best: {best_score, best_min_conf}')"
   ]
  },
  {
   "cell_type": "code",
   "execution_count": 25,
   "metadata": {},
   "outputs": [
    {
     "ename": "SyntaxError",
     "evalue": "invalid syntax (<ipython-input-25-86e25c8b441f>, line 1)",
     "output_type": "error",
     "traceback": [
      "\u001b[0;36m  File \u001b[0;32m\"<ipython-input-25-86e25c8b441f>\"\u001b[0;36m, line \u001b[0;32m1\u001b[0m\n\u001b[0;31m    Claim best: (0.639234490107245, array([0.4]))\u001b[0m\n\u001b[0m             ^\u001b[0m\n\u001b[0;31mSyntaxError\u001b[0m\u001b[0;31m:\u001b[0m invalid syntax\n"
     ]
    }
   ],
   "source": [
    "Claim best: (0.639234490107245, array([0.4]))\n"
   ]
  },
  {
   "cell_type": "markdown",
   "metadata": {},
   "source": [
    "### 5. Evidence (0.7722)"
   ]
  },
  {
   "cell_type": "code",
   "execution_count": null,
   "metadata": {},
   "outputs": [],
   "source": [
    "evidence_filt = (train_df['discourse_type'] == 'Evidence')\n",
    "evidence_df = train_df[evidence_filt]\n",
    "evidence_df.head()"
   ]
  },
  {
   "cell_type": "code",
   "execution_count": null,
   "metadata": {},
   "outputs": [],
   "source": [
    "evidence_info = {\n",
    "    'min_conf': 0.62,\n",
    "}"
   ]
  },
  {
   "cell_type": "code",
   "execution_count": null,
   "metadata": {},
   "outputs": [],
   "source": [
    "%%time\n",
    "\n",
    "class_preds = []\n",
    "\n",
    "for idx in word_probs_all.keys():\n",
    "\n",
    "    word_probs = word_probs_all[idx]\n",
    "\n",
    "    class_preds += cand_claim_evidence(idx, word_probs, 4, 3, evidence_info['min_conf'])\n",
    "\n",
    "evidence_preds_df = pd.DataFrame(class_preds, columns=COLUMNS)\n",
    "\n",
    "score_feedback_comp(evidence_preds_df, evidence_df)"
   ]
  },
  {
   "cell_type": "code",
   "execution_count": null,
   "metadata": {},
   "outputs": [],
   "source": [
    "min_conf_cand = np.arange(0.56, 0.63, step=0.01)\n",
    "\n",
    "candidates = cartesian_product_itertools([min_conf_cand])\n",
    "print(candidates.shape)\n",
    "\n",
    "best_score = 0\n",
    "best_min_conf = None\n",
    "\n",
    "for min_conf in tqdm(candidates):\n",
    "    \n",
    "    class_preds = []\n",
    "\n",
    "    for idx in word_probs_all.keys():\n",
    "        \n",
    "        word_probs = word_probs_all[idx]\n",
    "    \n",
    "        class_preds += cand_claim_evidence(idx, word_probs, 4, 3, min_conf)\n",
    "\n",
    "    evidence_preds_df = pd.DataFrame(class_preds, columns=COLUMNS)\n",
    "    \n",
    "    score = score_feedback_comp(evidence_preds_df, evidence_df)\n",
    "    \n",
    "    if score > best_score:\n",
    "        best_score = score\n",
    "        best_min_conf = min_conf\n",
    "        \n",
    "print(f'Evidence best: {best_score, best_min_conf}')"
   ]
  },
  {
   "cell_type": "markdown",
   "metadata": {},
   "source": [
    "### Counterclaim and Rebuttal"
   ]
  },
  {
   "cell_type": "code",
   "execution_count": 26,
   "metadata": {},
   "outputs": [],
   "source": [
    "def cand_count_reb(idx, word_probs, label_idx, prob):\n",
    "        \n",
    "    sample_preds = []\n",
    "    \n",
    "    class_probs = word_probs[:, label_idx]\n",
    "\n",
    "    word_preds = np.where(class_probs > prob, 1, 0)\n",
    "    \n",
    "    num_words = len(word_preds)\n",
    "    \n",
    "    start_positions = [i for i in range(1, num_words-1)\n",
    "             if (word_preds[i] == 1 and word_preds[i-1] != 1)]\n",
    "    start_positions = np.array(start_positions)\n",
    "    \n",
    "    if word_preds[0] == 1:\n",
    "        start_positions = np.append(0, start_positions).astype(int)\n",
    "    \n",
    "    for start_idx in start_positions:\n",
    "        end_idx = start_idx\n",
    "        \n",
    "        while (end_idx != num_words-1) and (word_preds[end_idx+1] == 1):\n",
    "            end_idx += 1\n",
    "            \n",
    "        if start_idx == 0:\n",
    "            before_class = 0\n",
    "        else:\n",
    "            helper_idx = max(0, start_idx-10)\n",
    "            before_class = word_probs[helper_idx:start_idx, :].mean(axis=0).argmax()\n",
    "        if end_idx == len(word_probs)-1:\n",
    "            after_class = 0\n",
    "        else:\n",
    "            after_class = word_probs[end_idx:end_idx+10, :].mean(axis=0).argmax()\n",
    "\n",
    "        \n",
    "        # format prediction\n",
    "        this_preds = [str(idx) for idx in range(start_idx, end_idx+1)]\n",
    "        this_preds = ' '.join(this_preds)\n",
    "        \n",
    "        sample_preds.append([idx, discourse_map_reverse[label_idx], this_preds, class_probs[start_idx:end_idx+1],\n",
    "                             before_class, after_class])\n",
    "    \n",
    "    return sample_preds\n"
   ]
  },
  {
   "cell_type": "markdown",
   "metadata": {},
   "source": [
    "### 6. Counterclaim (0.5762)"
   ]
  },
  {
   "cell_type": "code",
   "execution_count": 27,
   "metadata": {},
   "outputs": [
    {
     "data": {
      "text/html": [
       "<div>\n",
       "<style scoped>\n",
       "    .dataframe tbody tr th:only-of-type {\n",
       "        vertical-align: middle;\n",
       "    }\n",
       "\n",
       "    .dataframe tbody tr th {\n",
       "        vertical-align: top;\n",
       "    }\n",
       "\n",
       "    .dataframe thead th {\n",
       "        text-align: right;\n",
       "    }\n",
       "</style>\n",
       "<table border=\"1\" class=\"dataframe\">\n",
       "  <thead>\n",
       "    <tr style=\"text-align: right;\">\n",
       "      <th></th>\n",
       "      <th>id</th>\n",
       "      <th>discourse_id</th>\n",
       "      <th>discourse_start</th>\n",
       "      <th>discourse_end</th>\n",
       "      <th>discourse_text</th>\n",
       "      <th>discourse_type</th>\n",
       "      <th>discourse_type_num</th>\n",
       "      <th>predictionstring</th>\n",
       "    </tr>\n",
       "  </thead>\n",
       "  <tbody>\n",
       "    <tr>\n",
       "      <th>18</th>\n",
       "      <td>6B4F7A0165B9</td>\n",
       "      <td>1.622644e+12</td>\n",
       "      <td>1245.0</td>\n",
       "      <td>1439.0</td>\n",
       "      <td>Conversely people may believe that laws in pre...</td>\n",
       "      <td>Counterclaim</td>\n",
       "      <td>Counterclaim 1</td>\n",
       "      <td>221 222 223 224 225 226 227 228 229 230 231 23...</td>\n",
       "    </tr>\n",
       "    <tr>\n",
       "      <th>96</th>\n",
       "      <td>4F0E197053FF</td>\n",
       "      <td>1.622485e+12</td>\n",
       "      <td>1525.0</td>\n",
       "      <td>1636.0</td>\n",
       "      <td>While it is dangerous to be interacting with y...</td>\n",
       "      <td>Counterclaim</td>\n",
       "      <td>Counterclaim 1</td>\n",
       "      <td>259 260 261 262 263 264 265 266 267 268 269 27...</td>\n",
       "    </tr>\n",
       "    <tr>\n",
       "      <th>118</th>\n",
       "      <td>019328A0D7A3</td>\n",
       "      <td>1.622467e+12</td>\n",
       "      <td>1322.0</td>\n",
       "      <td>1435.0</td>\n",
       "      <td>Many people may say that teens are the ones dr...</td>\n",
       "      <td>Counterclaim</td>\n",
       "      <td>Counterclaim 1</td>\n",
       "      <td>229 230 231 232 233 234 235 236 237 238 239 24...</td>\n",
       "    </tr>\n",
       "    <tr>\n",
       "      <th>241</th>\n",
       "      <td>CC296299ABA4</td>\n",
       "      <td>1.622766e+12</td>\n",
       "      <td>2004.0</td>\n",
       "      <td>2084.0</td>\n",
       "      <td>Some people will argue that the usage of any p...</td>\n",
       "      <td>Counterclaim</td>\n",
       "      <td>Counterclaim 1</td>\n",
       "      <td>345 346 347 348 349 350 351 352 353 354 355 35...</td>\n",
       "    </tr>\n",
       "    <tr>\n",
       "      <th>299</th>\n",
       "      <td>7FF6281EC288</td>\n",
       "      <td>1.622554e+12</td>\n",
       "      <td>512.0</td>\n",
       "      <td>561.0</td>\n",
       "      <td>Even if your rates don't go up after an accident,</td>\n",
       "      <td>Counterclaim</td>\n",
       "      <td>Counterclaim 1</td>\n",
       "      <td>83 84 85 86 87 88 89 90 91 92</td>\n",
       "    </tr>\n",
       "  </tbody>\n",
       "</table>\n",
       "</div>"
      ],
      "text/plain": [
       "               id  discourse_id  discourse_start  discourse_end  \\\n",
       "18   6B4F7A0165B9  1.622644e+12           1245.0         1439.0   \n",
       "96   4F0E197053FF  1.622485e+12           1525.0         1636.0   \n",
       "118  019328A0D7A3  1.622467e+12           1322.0         1435.0   \n",
       "241  CC296299ABA4  1.622766e+12           2004.0         2084.0   \n",
       "299  7FF6281EC288  1.622554e+12            512.0          561.0   \n",
       "\n",
       "                                        discourse_text discourse_type  \\\n",
       "18   Conversely people may believe that laws in pre...   Counterclaim   \n",
       "96   While it is dangerous to be interacting with y...   Counterclaim   \n",
       "118  Many people may say that teens are the ones dr...   Counterclaim   \n",
       "241  Some people will argue that the usage of any p...   Counterclaim   \n",
       "299  Even if your rates don't go up after an accident,   Counterclaim   \n",
       "\n",
       "    discourse_type_num                                   predictionstring  \n",
       "18      Counterclaim 1  221 222 223 224 225 226 227 228 229 230 231 23...  \n",
       "96      Counterclaim 1  259 260 261 262 263 264 265 266 267 268 269 27...  \n",
       "118     Counterclaim 1  229 230 231 232 233 234 235 236 237 238 239 24...  \n",
       "241     Counterclaim 1  345 346 347 348 349 350 351 352 353 354 355 35...  \n",
       "299     Counterclaim 1                      83 84 85 86 87 88 89 90 91 92  "
      ]
     },
     "execution_count": 27,
     "metadata": {},
     "output_type": "execute_result"
    }
   ],
   "source": [
    "count_filt = (train_df['discourse_type'] == 'Counterclaim')\n",
    "count_df = train_df[count_filt]\n",
    "count_df.head()"
   ]
  },
  {
   "cell_type": "code",
   "execution_count": 28,
   "metadata": {},
   "outputs": [],
   "source": [
    "count_info = {\n",
    "    'prob': 0.35\n",
    "}"
   ]
  },
  {
   "cell_type": "code",
   "execution_count": 29,
   "metadata": {},
   "outputs": [
    {
     "data": {
      "text/plain": [
       "0.5463261818872224"
      ]
     },
     "execution_count": 29,
     "metadata": {},
     "output_type": "execute_result"
    }
   ],
   "source": [
    "class_preds = []\n",
    "\n",
    "for idx in word_probs_all.keys():\n",
    "\n",
    "    word_probs = word_probs_all[idx]\n",
    "\n",
    "    class_preds += cand_count_reb(idx, word_probs, 8, count_info['prob'])\n",
    "\n",
    "count_preds_df = pd.DataFrame(class_preds, columns=COLUMNS)\n",
    "\n",
    "score_feedback_comp(count_preds_df, count_df)"
   ]
  },
  {
   "cell_type": "code",
   "execution_count": 30,
   "metadata": {},
   "outputs": [
    {
     "name": "stdout",
     "output_type": "stream",
     "text": [
      "(5, 1)\n"
     ]
    },
    {
     "name": "stderr",
     "output_type": "stream",
     "text": [
      "100%|██████████| 5/5 [00:16<00:00,  3.20s/it]"
     ]
    },
    {
     "name": "stdout",
     "output_type": "stream",
     "text": [
      "Counterclaim best: (0.55444201177958, array([0.29]))\n"
     ]
    },
    {
     "name": "stderr",
     "output_type": "stream",
     "text": [
      "\n"
     ]
    }
   ],
   "source": [
    "prob_cand = np.arange(0.25, 0.3, step=0.01)\n",
    "\n",
    "candidates = cartesian_product_itertools([prob_cand])\n",
    "print(candidates.shape)\n",
    "\n",
    "best_score = 0\n",
    "best_min_prob = None\n",
    "\n",
    "for prob in tqdm(candidates):\n",
    "    \n",
    "    class_preds = []\n",
    "\n",
    "    for idx in word_probs_all.keys():\n",
    "\n",
    "        word_probs = word_probs_all[idx]\n",
    "    \n",
    "        class_preds += cand_count_reb(idx, word_probs, 8, prob)\n",
    "\n",
    "    count_preds_df = pd.DataFrame(class_preds, columns=COLUMNS)\n",
    "    \n",
    "    score = score_feedback_comp(count_preds_df, count_df)\n",
    "    \n",
    "    if score > best_score:\n",
    "        best_score = score\n",
    "        best_min_prob = prob\n",
    "        \n",
    "print(f'Counterclaim best: {best_score, best_min_prob}')"
   ]
  },
  {
   "cell_type": "code",
   "execution_count": null,
   "metadata": {},
   "outputs": [],
   "source": []
  },
  {
   "cell_type": "markdown",
   "metadata": {},
   "source": [
    "### Rebuttal (0.4907)"
   ]
  },
  {
   "cell_type": "code",
   "execution_count": 31,
   "metadata": {},
   "outputs": [
    {
     "data": {
      "text/html": [
       "<div>\n",
       "<style scoped>\n",
       "    .dataframe tbody tr th:only-of-type {\n",
       "        vertical-align: middle;\n",
       "    }\n",
       "\n",
       "    .dataframe tbody tr th {\n",
       "        vertical-align: top;\n",
       "    }\n",
       "\n",
       "    .dataframe thead th {\n",
       "        text-align: right;\n",
       "    }\n",
       "</style>\n",
       "<table border=\"1\" class=\"dataframe\">\n",
       "  <thead>\n",
       "    <tr style=\"text-align: right;\">\n",
       "      <th></th>\n",
       "      <th>id</th>\n",
       "      <th>discourse_id</th>\n",
       "      <th>discourse_start</th>\n",
       "      <th>discourse_end</th>\n",
       "      <th>discourse_text</th>\n",
       "      <th>discourse_type</th>\n",
       "      <th>discourse_type_num</th>\n",
       "      <th>predictionstring</th>\n",
       "    </tr>\n",
       "  </thead>\n",
       "  <tbody>\n",
       "    <tr>\n",
       "      <th>19</th>\n",
       "      <td>6B4F7A0165B9</td>\n",
       "      <td>1.622644e+12</td>\n",
       "      <td>1440.0</td>\n",
       "      <td>1681.0</td>\n",
       "      <td>The problem becomes apparent that this is a se...</td>\n",
       "      <td>Rebuttal</td>\n",
       "      <td>Rebuttal 1</td>\n",
       "      <td>254 255 256 257 258 259 260 261 262 263 264 26...</td>\n",
       "    </tr>\n",
       "    <tr>\n",
       "      <th>119</th>\n",
       "      <td>019328A0D7A3</td>\n",
       "      <td>1.622467e+12</td>\n",
       "      <td>1436.0</td>\n",
       "      <td>1498.0</td>\n",
       "      <td>In reality, everyone from every age is irrespo...</td>\n",
       "      <td>Rebuttal</td>\n",
       "      <td>Rebuttal 1</td>\n",
       "      <td>248 249 250 251 252 253 254 255 256</td>\n",
       "    </tr>\n",
       "    <tr>\n",
       "      <th>242</th>\n",
       "      <td>CC296299ABA4</td>\n",
       "      <td>1.622766e+12</td>\n",
       "      <td>2084.0</td>\n",
       "      <td>2141.0</td>\n",
       "      <td>While that is true, it is highly unlikely and ...</td>\n",
       "      <td>Rebuttal</td>\n",
       "      <td>Rebuttal 1</td>\n",
       "      <td>360 361 362 363 364 365 366 367 368 369</td>\n",
       "    </tr>\n",
       "    <tr>\n",
       "      <th>300</th>\n",
       "      <td>7FF6281EC288</td>\n",
       "      <td>1.622554e+12</td>\n",
       "      <td>562.0</td>\n",
       "      <td>605.0</td>\n",
       "      <td>you could lose your good drivers discount.</td>\n",
       "      <td>Rebuttal</td>\n",
       "      <td>Rebuttal 1</td>\n",
       "      <td>93 94 95 96 97 98 99</td>\n",
       "    </tr>\n",
       "    <tr>\n",
       "      <th>322</th>\n",
       "      <td>89808E74DDC5</td>\n",
       "      <td>1.622825e+12</td>\n",
       "      <td>2630.0</td>\n",
       "      <td>2755.0</td>\n",
       "      <td>However, talking or texting on cell phones whi...</td>\n",
       "      <td>Rebuttal</td>\n",
       "      <td>Rebuttal 1</td>\n",
       "      <td>458 459 460 461 462 463 464 465 466 467 468 46...</td>\n",
       "    </tr>\n",
       "  </tbody>\n",
       "</table>\n",
       "</div>"
      ],
      "text/plain": [
       "               id  discourse_id  discourse_start  discourse_end  \\\n",
       "19   6B4F7A0165B9  1.622644e+12           1440.0         1681.0   \n",
       "119  019328A0D7A3  1.622467e+12           1436.0         1498.0   \n",
       "242  CC296299ABA4  1.622766e+12           2084.0         2141.0   \n",
       "300  7FF6281EC288  1.622554e+12            562.0          605.0   \n",
       "322  89808E74DDC5  1.622825e+12           2630.0         2755.0   \n",
       "\n",
       "                                        discourse_text discourse_type  \\\n",
       "19   The problem becomes apparent that this is a se...       Rebuttal   \n",
       "119  In reality, everyone from every age is irrespo...       Rebuttal   \n",
       "242  While that is true, it is highly unlikely and ...       Rebuttal   \n",
       "300        you could lose your good drivers discount.        Rebuttal   \n",
       "322  However, talking or texting on cell phones whi...       Rebuttal   \n",
       "\n",
       "    discourse_type_num                                   predictionstring  \n",
       "19          Rebuttal 1  254 255 256 257 258 259 260 261 262 263 264 26...  \n",
       "119         Rebuttal 1                248 249 250 251 252 253 254 255 256  \n",
       "242         Rebuttal 1            360 361 362 363 364 365 366 367 368 369  \n",
       "300         Rebuttal 1                               93 94 95 96 97 98 99  \n",
       "322         Rebuttal 1  458 459 460 461 462 463 464 465 466 467 468 46...  "
      ]
     },
     "execution_count": 31,
     "metadata": {},
     "output_type": "execute_result"
    }
   ],
   "source": [
    "reb_filt = (train_df['discourse_type'] == 'Rebuttal')\n",
    "reb_df = train_df[reb_filt]\n",
    "reb_df.head()"
   ]
  },
  {
   "cell_type": "code",
   "execution_count": 32,
   "metadata": {},
   "outputs": [],
   "source": [
    "rebuttal_info = {\n",
    "    'prob': 0.31\n",
    "}"
   ]
  },
  {
   "cell_type": "code",
   "execution_count": 33,
   "metadata": {},
   "outputs": [
    {
     "data": {
      "text/plain": [
       "0.4621165955718058"
      ]
     },
     "execution_count": 33,
     "metadata": {},
     "output_type": "execute_result"
    }
   ],
   "source": [
    "class_preds = []\n",
    "\n",
    "for idx in word_probs_all.keys():\n",
    "\n",
    "    word_probs = word_probs_all[idx]\n",
    "\n",
    "    class_preds += cand_count_reb(idx, word_probs, 9, rebuttal_info['prob'])\n",
    "\n",
    "reb_preds_df = pd.DataFrame(class_preds, columns=COLUMNS)\n",
    "\n",
    "score_feedback_comp(reb_preds_df, reb_df)"
   ]
  },
  {
   "cell_type": "code",
   "execution_count": 34,
   "metadata": {},
   "outputs": [
    {
     "name": "stdout",
     "output_type": "stream",
     "text": [
      "(15, 1)\n"
     ]
    },
    {
     "name": "stderr",
     "output_type": "stream",
     "text": [
      "100%|██████████| 15/15 [00:46<00:00,  3.12s/it]"
     ]
    },
    {
     "name": "stdout",
     "output_type": "stream",
     "text": [
      "Rebuttal best: (0.4672047288848471, array([0.21]))\n"
     ]
    },
    {
     "name": "stderr",
     "output_type": "stream",
     "text": [
      "\n"
     ]
    }
   ],
   "source": [
    "min_probs_cand = np.arange(0.2, 0.35, step=0.01)\n",
    "\n",
    "candidates = cartesian_product_itertools([min_probs_cand])\n",
    "print(candidates.shape)\n",
    "\n",
    "best_score = 0\n",
    "best_min_prob = None\n",
    "\n",
    "for prob in tqdm(candidates):\n",
    "    \n",
    "    class_preds = []\n",
    "\n",
    "    for idx in word_probs_all.keys():\n",
    "\n",
    "        word_probs = word_probs_all[idx]\n",
    "    \n",
    "        class_preds += cand_count_reb(idx, word_probs, 9, prob)\n",
    "\n",
    "    reb_preds_df = pd.DataFrame(class_preds, columns=COLUMNS)\n",
    "    \n",
    "    score = score_feedback_comp(reb_preds_df, reb_df)\n",
    "    \n",
    "    if score > best_score:\n",
    "        best_score = score\n",
    "        best_min_prob = prob\n",
    "        \n",
    "print(f'Rebuttal best: {best_score, best_min_prob}')"
   ]
  },
  {
   "cell_type": "code",
   "execution_count": null,
   "metadata": {},
   "outputs": [],
   "source": []
  },
  {
   "cell_type": "code",
   "execution_count": null,
   "metadata": {},
   "outputs": [],
   "source": []
  },
  {
   "cell_type": "code",
   "execution_count": null,
   "metadata": {},
   "outputs": [],
   "source": []
  }
 ],
 "metadata": {
  "kernelspec": {
   "display_name": "Python 3",
   "language": "python",
   "name": "python3"
  },
  "language_info": {
   "codemirror_mode": {
    "name": "ipython",
    "version": 3
   },
   "file_extension": ".py",
   "mimetype": "text/x-python",
   "name": "python",
   "nbconvert_exporter": "python",
   "pygments_lexer": "ipython3",
   "version": "3.6.6"
  }
 },
 "nbformat": 4,
 "nbformat_minor": 4
}
