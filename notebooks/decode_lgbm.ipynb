{
 "cells": [
  {
   "cell_type": "code",
   "execution_count": 1,
   "metadata": {},
   "outputs": [],
   "source": [
    "import os\n",
    "import sys\n",
    "import pickle\n",
    "\n",
    "import pandas as pd\n",
    "import numpy as np\n",
    "\n",
    "import torch\n",
    "import torch.nn as nn\n",
    "\n",
    "from sklearn.ensemble import RandomForestClassifier\n",
    "from xgboost import XGBClassifier\n",
    "import lightgbm as lgb\n",
    "\n",
    "import optuna\n",
    "\n",
    "import transformers\n",
    "\n",
    "from tqdm import tqdm\n",
    "import matplotlib.pyplot as plt\n",
    "\n",
    "sys.path.append('/home/backe/projects/feedback/')\n",
    "from utils import score_feedback_comp, calc_overlap\n",
    "# from utils_candidates import score_feedback_comp, calc_overlap\n",
    "from decoder_2000.candidates import *\n",
    "\n",
    "# os.environ['CUDA_VISIBLE_DEVICES'] = '1'"
   ]
  },
  {
   "cell_type": "code",
   "execution_count": 2,
   "metadata": {},
   "outputs": [],
   "source": [
    "# VAL_DF\n",
    "TRAIN_PATH = '../data/train.csv'\n",
    "train_df = pd.read_csv(TRAIN_PATH)\n",
    "\n",
    "folds_df = pd.read_csv('../data/folds.csv')"
   ]
  },
  {
   "cell_type": "code",
   "execution_count": 3,
   "metadata": {},
   "outputs": [],
   "source": [
    "with open('word_probs_lf.pickle', 'rb') as handle:\n",
    "    word_probs_lf = pickle.load(handle)\n",
    "    \n",
    "with open('word_probs_rl.pickle', 'rb') as handle:\n",
    "    word_probs_rl = pickle.load(handle)\n",
    "\n",
    "with open('word_probs_db.pickle', 'rb') as handle:\n",
    "    word_probs_db = pickle.load(handle)"
   ]
  },
  {
   "cell_type": "code",
   "execution_count": 4,
   "metadata": {},
   "outputs": [],
   "source": [
    "word_probs_all = {}\n",
    "\n",
    "for idx in word_probs_lf.keys():\n",
    "    \n",
    "    word_probs_all[idx] = np.mean((word_probs_lf[idx], word_probs_rl[idx], word_probs_db[idx]), axis=0)\n"
   ]
  },
  {
   "cell_type": "markdown",
   "metadata": {},
   "source": [
    "### Make dataset"
   ]
  },
  {
   "cell_type": "code",
   "execution_count": 5,
   "metadata": {},
   "outputs": [],
   "source": [
    "def get_target(preds_df, gt_df, discourse_type):\n",
    "    \"\"\"\n",
    "    A function that scores for the kaggle\n",
    "        Student Writing Competition\n",
    "        \n",
    "    Uses the steps in the evaluation page here:\n",
    "        https://www.kaggle.com/c/feedback-prize-2021/overview/evaluation\n",
    "    \"\"\"\n",
    "    \n",
    "    pred_df = preds_df.copy()\n",
    "    \n",
    "    gt_df = gt_df.loc[gt_df['discourse_type'] == discourse_type, \n",
    "                      ['id', 'predictionstring']].reset_index(drop=True)\n",
    "    pred_df = pred_df.loc[pred_df['class'] == discourse_type,\n",
    "                      ['id', 'predictionstring']].reset_index(drop=True)\n",
    "    pred_df['pred_id'] = pred_df.index\n",
    "    gt_df['gt_id'] = gt_df.index\n",
    "    pred_df['predictionstring'] = [set(pred.split(' ')) for pred in pred_df['predictionstring']]\n",
    "    gt_df['predictionstring'] = [set(pred.split(' ')) for pred in gt_df['predictionstring']]\n",
    "    \n",
    "    # Step 1. all ground truths and predictions for a given class are compared.\n",
    "    joined = pred_df.merge(gt_df,\n",
    "                           left_on='id',\n",
    "                           right_on='id',\n",
    "                           how='outer',\n",
    "                           suffixes=('_pred','_gt')\n",
    "                          )\n",
    "    joined['overlaps'] = [calc_overlap(*args) for args in zip(joined.predictionstring_pred, \n",
    "                                                     joined.predictionstring_gt)]\n",
    "    \n",
    "    preds_df['target'] = pred_df['pred_id'].apply(lambda pid: joined.loc[joined['pred_id'] == pid, 'overlaps'].any())\n",
    "    \n",
    "    return preds_df"
   ]
  },
  {
   "cell_type": "code",
   "execution_count": 6,
   "metadata": {},
   "outputs": [
    {
     "data": {
      "text/html": [
       "<div>\n",
       "<style scoped>\n",
       "    .dataframe tbody tr th:only-of-type {\n",
       "        vertical-align: middle;\n",
       "    }\n",
       "\n",
       "    .dataframe tbody tr th {\n",
       "        vertical-align: top;\n",
       "    }\n",
       "\n",
       "    .dataframe thead th {\n",
       "        text-align: right;\n",
       "    }\n",
       "</style>\n",
       "<table border=\"1\" class=\"dataframe\">\n",
       "  <thead>\n",
       "    <tr style=\"text-align: right;\">\n",
       "      <th></th>\n",
       "      <th>id</th>\n",
       "      <th>discourse_id</th>\n",
       "      <th>discourse_start</th>\n",
       "      <th>discourse_end</th>\n",
       "      <th>discourse_text</th>\n",
       "      <th>discourse_type</th>\n",
       "      <th>discourse_type_num</th>\n",
       "      <th>predictionstring</th>\n",
       "    </tr>\n",
       "  </thead>\n",
       "  <tbody>\n",
       "    <tr>\n",
       "      <th>19</th>\n",
       "      <td>6B4F7A0165B9</td>\n",
       "      <td>1.622644e+12</td>\n",
       "      <td>1440.0</td>\n",
       "      <td>1681.0</td>\n",
       "      <td>The problem becomes apparent that this is a se...</td>\n",
       "      <td>Rebuttal</td>\n",
       "      <td>Rebuttal 1</td>\n",
       "      <td>254 255 256 257 258 259 260 261 262 263 264 26...</td>\n",
       "    </tr>\n",
       "    <tr>\n",
       "      <th>119</th>\n",
       "      <td>019328A0D7A3</td>\n",
       "      <td>1.622467e+12</td>\n",
       "      <td>1436.0</td>\n",
       "      <td>1498.0</td>\n",
       "      <td>In reality, everyone from every age is irrespo...</td>\n",
       "      <td>Rebuttal</td>\n",
       "      <td>Rebuttal 1</td>\n",
       "      <td>248 249 250 251 252 253 254 255 256</td>\n",
       "    </tr>\n",
       "    <tr>\n",
       "      <th>242</th>\n",
       "      <td>CC296299ABA4</td>\n",
       "      <td>1.622766e+12</td>\n",
       "      <td>2084.0</td>\n",
       "      <td>2141.0</td>\n",
       "      <td>While that is true, it is highly unlikely and ...</td>\n",
       "      <td>Rebuttal</td>\n",
       "      <td>Rebuttal 1</td>\n",
       "      <td>360 361 362 363 364 365 366 367 368 369</td>\n",
       "    </tr>\n",
       "    <tr>\n",
       "      <th>300</th>\n",
       "      <td>7FF6281EC288</td>\n",
       "      <td>1.622554e+12</td>\n",
       "      <td>562.0</td>\n",
       "      <td>605.0</td>\n",
       "      <td>you could lose your good drivers discount.</td>\n",
       "      <td>Rebuttal</td>\n",
       "      <td>Rebuttal 1</td>\n",
       "      <td>93 94 95 96 97 98 99</td>\n",
       "    </tr>\n",
       "    <tr>\n",
       "      <th>322</th>\n",
       "      <td>89808E74DDC5</td>\n",
       "      <td>1.622825e+12</td>\n",
       "      <td>2630.0</td>\n",
       "      <td>2755.0</td>\n",
       "      <td>However, talking or texting on cell phones whi...</td>\n",
       "      <td>Rebuttal</td>\n",
       "      <td>Rebuttal 1</td>\n",
       "      <td>458 459 460 461 462 463 464 465 466 467 468 46...</td>\n",
       "    </tr>\n",
       "  </tbody>\n",
       "</table>\n",
       "</div>"
      ],
      "text/plain": [
       "               id  discourse_id  discourse_start  discourse_end  \\\n",
       "19   6B4F7A0165B9  1.622644e+12           1440.0         1681.0   \n",
       "119  019328A0D7A3  1.622467e+12           1436.0         1498.0   \n",
       "242  CC296299ABA4  1.622766e+12           2084.0         2141.0   \n",
       "300  7FF6281EC288  1.622554e+12            562.0          605.0   \n",
       "322  89808E74DDC5  1.622825e+12           2630.0         2755.0   \n",
       "\n",
       "                                        discourse_text discourse_type  \\\n",
       "19   The problem becomes apparent that this is a se...       Rebuttal   \n",
       "119  In reality, everyone from every age is irrespo...       Rebuttal   \n",
       "242  While that is true, it is highly unlikely and ...       Rebuttal   \n",
       "300        you could lose your good drivers discount.        Rebuttal   \n",
       "322  However, talking or texting on cell phones whi...       Rebuttal   \n",
       "\n",
       "    discourse_type_num                                   predictionstring  \n",
       "19          Rebuttal 1  254 255 256 257 258 259 260 261 262 263 264 26...  \n",
       "119         Rebuttal 1                248 249 250 251 252 253 254 255 256  \n",
       "242         Rebuttal 1            360 361 362 363 364 365 366 367 368 369  \n",
       "300         Rebuttal 1                               93 94 95 96 97 98 99  \n",
       "322         Rebuttal 1  458 459 460 461 462 463 464 465 466 467 468 46...  "
      ]
     },
     "execution_count": 6,
     "metadata": {},
     "output_type": "execute_result"
    }
   ],
   "source": [
    "lead_filt = (train_df['discourse_type'] == 'Lead')\n",
    "lead_df = train_df[lead_filt]\n",
    "lead_df.head()\n",
    "\n",
    "position_filt = (train_df['discourse_type'] == 'Position')\n",
    "position_df = train_df[position_filt]\n",
    "position_df.head()\n",
    "\n",
    "conc_filt = (train_df['discourse_type'] == 'Concluding Statement')\n",
    "conclude_df = train_df[conc_filt]\n",
    "conclude_df.head()\n",
    "\n",
    "claim_filt = (train_df['discourse_type'] == 'Claim')\n",
    "claim_df = train_df[claim_filt]\n",
    "claim_df.head()\n",
    "\n",
    "evidence_filt = (train_df['discourse_type'] == 'Evidence')\n",
    "evidence_df = train_df[evidence_filt]\n",
    "evidence_df.head()\n",
    "\n",
    "count_filt = (train_df['discourse_type'] == 'Counterclaim')\n",
    "count_df = train_df[count_filt]\n",
    "count_df.head()\n",
    "\n",
    "reb_filt = (train_df['discourse_type'] == 'Rebuttal')\n",
    "reb_df = train_df[reb_filt]\n",
    "reb_df.head()"
   ]
  },
  {
   "cell_type": "markdown",
   "metadata": {},
   "source": [
    "### Optuna Search"
   ]
  },
  {
   "cell_type": "code",
   "execution_count": 7,
   "metadata": {},
   "outputs": [],
   "source": [
    "# get lead candidates\n",
    "\n",
    "class_preds = []\n",
    "\n",
    "for idx in word_probs_all.keys():\n",
    "    \n",
    "    word_probs = word_probs_all[idx]\n",
    "\n",
    "    class_preds += cand_lead_position(idx, word_probs, lead_info['p_start'], lead_info['p_end'], 7)\n",
    "\n",
    "lead_cand_df = pd.DataFrame(class_preds, columns=['id', 'class', 'predictionstring', 'prob_values', 'before_class', 'after_class'])\n",
    "\n",
    "# score = score_feedback_comp(lead_cand_df, lead_df)\n",
    "# print(score)\n",
    "\n",
    "lead_cand_df = get_target(lead_cand_df, lead_df, 'Lead')"
   ]
  },
  {
   "cell_type": "code",
   "execution_count": 8,
   "metadata": {},
   "outputs": [],
   "source": [
    "# get position candidates\n",
    "\n",
    "class_preds = []\n",
    "\n",
    "for idx in word_probs_all.keys():\n",
    "    \n",
    "    word_probs = word_probs_all[idx]\n",
    "\n",
    "    class_preds += cand_lead_position(idx, word_probs, pos_info['p_start'], pos_info['p_end'], 5)\n",
    "\n",
    "pos_cand_df = pd.DataFrame(class_preds, columns=['id', 'class', 'predictionstring', 'prob_values', 'before_class', 'after_class'])\n",
    "\n",
    "# score = score_feedback_comp(pos_cand_df, position_df)\n",
    "# print(score)\n",
    "\n",
    "pos_cand_df = get_target(pos_cand_df, position_df, 'Position')"
   ]
  },
  {
   "cell_type": "code",
   "execution_count": 9,
   "metadata": {},
   "outputs": [],
   "source": [
    "# get concluding statement candidates\n",
    "\n",
    "class_preds = []\n",
    "\n",
    "for idx in word_probs_all.keys():\n",
    "    \n",
    "    word_probs = word_probs_all[idx]\n",
    "\n",
    "    class_preds += cand_conc_stat(idx, word_probs, conc_info['min_word_prob'], 6)\n",
    "\n",
    "conc_cand_df = pd.DataFrame(class_preds, columns=['id', 'class', 'predictionstring', 'prob_values', 'before_class', 'after_class'])\n",
    "\n",
    "# score = score_feedback_comp(conc_cand_df, conclude_df)\n",
    "# print(score)\n",
    "\n",
    "conc_cand_df = get_target(conc_cand_df, conclude_df, 'Concluding Statement')"
   ]
  },
  {
   "cell_type": "code",
   "execution_count": 10,
   "metadata": {},
   "outputs": [],
   "source": [
    "# get claim candidates\n",
    "\n",
    "class_preds = []\n",
    "\n",
    "for idx in word_probs_all.keys():\n",
    "    \n",
    "    word_probs = word_probs_all[idx]\n",
    "    \n",
    "    class_preds += cand_claim_evidence(idx, word_probs, 2, 1)\n",
    "\n",
    "claim_cand_df = pd.DataFrame(class_preds, columns=['id', 'class', 'predictionstring', 'prob_values', 'before_class', 'after_class'])\n",
    "\n",
    "# score = score_feedback_comp(claim_cand_df, claim_df)\n",
    "# print(score)\n",
    "\n",
    "claim_cand_df = get_target(claim_cand_df, claim_df, 'Claim')"
   ]
  },
  {
   "cell_type": "code",
   "execution_count": 11,
   "metadata": {},
   "outputs": [],
   "source": [
    "# get evidence candidates\n",
    "\n",
    "class_preds = []\n",
    "\n",
    "for idx in word_probs_all.keys():\n",
    "    \n",
    "    word_probs = word_probs_all[idx]\n",
    "    \n",
    "    class_preds += cand_claim_evidence(idx, word_probs, 4, 3)\n",
    "\n",
    "evidence_cand_df = pd.DataFrame(class_preds, columns=['id', 'class', 'predictionstring', 'prob_values', 'before_class', 'after_class'])\n",
    "\n",
    "# score = score_feedback_comp(evidence_cand_df, evidence_df)\n",
    "# print(score)\n",
    "\n",
    "evidence_cand_df = get_target(evidence_cand_df, evidence_df, 'Evidence')"
   ]
  },
  {
   "cell_type": "code",
   "execution_count": null,
   "metadata": {},
   "outputs": [],
   "source": [
    "# # get counterclaim candidates\n",
    "\n",
    "# class_preds = []\n",
    "\n",
    "# for idx in word_probs_all.keys():\n",
    "    \n",
    "#     word_probs = word_probs_all[idx]\n",
    "\n",
    "#     class_preds += cand_count_reb(idx, word_probs, 8, count_info['prob'])\n",
    "\n",
    "# count_cand_df = pd.DataFrame(class_preds, columns=['id', 'class', 'predictionstring', 'prob_values', 'before_class', 'after_class'])\n",
    "\n",
    "# score = score_feedback_comp(count_cand_df.copy(), count_df.copy())\n",
    "# print(score)\n",
    "# count_cand_df = get_target(count_cand_df, count_df, 'Counterclaim')"
   ]
  },
  {
   "cell_type": "code",
   "execution_count": null,
   "metadata": {},
   "outputs": [],
   "source": [
    "# # get rebuttal candidates\n",
    "\n",
    "# class_preds = []\n",
    "\n",
    "# for idx in word_probs_all.keys():\n",
    "    \n",
    "#     word_probs = word_probs_all[idx]\n",
    "\n",
    "#     class_preds += cand_count_reb(idx, word_probs, 9, rebuttal_info['prob'])\n",
    "\n",
    "# reb_cand_df = pd.DataFrame(class_preds, columns=['id', 'class', 'predictionstring', 'prob_values', 'before_class', 'after_class'])\n",
    "\n",
    "# score = score_feedback_comp(reb_cand_df, reb_df)\n",
    "# print(score)\n",
    "\n",
    "# reb_cand_df = get_target(reb_cand_df, reb_df, 'Rebuttal')"
   ]
  },
  {
   "cell_type": "code",
   "execution_count": 28,
   "metadata": {},
   "outputs": [
    {
     "name": "stdout",
     "output_type": "stream",
     "text": [
      "0.48802204791180837\n"
     ]
    }
   ],
   "source": [
    "# get counterclaim candidates\n",
    "\n",
    "class_preds = []\n",
    "\n",
    "for idx in word_probs_all.keys():\n",
    "    \n",
    "    word_probs = word_probs_all[idx]\n",
    "\n",
    "    class_preds += cand_count_reb(idx, word_probs, 8, 0.35)\n",
    "\n",
    "count_cand_df = pd.DataFrame(class_preds, columns=['id', 'class', 'predictionstring', 'prob_values', 'before_class', 'after_class'])\n",
    "\n",
    "score = score_feedback_comp(count_cand_df.copy(), count_df.copy())\n",
    "print(score)\n",
    "count_cand_df = get_target(count_cand_df, count_df, 'Counterclaim')"
   ]
  },
  {
   "cell_type": "code",
   "execution_count": 29,
   "metadata": {},
   "outputs": [
    {
     "name": "stdout",
     "output_type": "stream",
     "text": [
      "0.3950815290029404\n"
     ]
    }
   ],
   "source": [
    "# get rebuttal candidates\n",
    "\n",
    "class_preds = []\n",
    "\n",
    "for idx in word_probs_all.keys():\n",
    "    \n",
    "    word_probs = word_probs_all[idx]\n",
    "\n",
    "    class_preds += cand_count_reb(idx, word_probs, 9, 0.35)\n",
    "\n",
    "reb_cand_df = pd.DataFrame(class_preds, columns=['id', 'class', 'predictionstring', 'prob_values', 'before_class', 'after_class'])\n",
    "\n",
    "score = score_feedback_comp(reb_cand_df, reb_df)\n",
    "print(score)\n",
    "\n",
    "reb_cand_df = get_target(reb_cand_df, reb_df, 'Rebuttal')"
   ]
  },
  {
   "cell_type": "code",
   "execution_count": 49,
   "metadata": {},
   "outputs": [],
   "source": [
    "def objective(trial):\n",
    "    \n",
    "    n_estimators = 4\n",
    "    num_leaves = trial.suggest_int('num_leaves', 60, 160, 20)\n",
    "    max_depth = trial.suggest_int('max_depth', 10, 20, 1)\n",
    "    min_child_samples = trial.suggest_int('min_child_samples', 200, 600, 50)\n",
    "    \n",
    "    prob_count = trial.suggest_float('prob_count', 0.3, 0.4, step=0.01)\n",
    "    prob_rebuttal = trial.suggest_float('prob_rebuttal', 0.3, 0.4, step=0.01)\n",
    "    \n",
    "    # get counterclaim candidates\n",
    "    class_preds = []\n",
    "    for idx in word_probs_all.keys():\n",
    "        word_probs = word_probs_all[idx]\n",
    "        class_preds += cand_count_reb(idx, word_probs, 8, prob_count)\n",
    "    count_cand_df = pd.DataFrame(class_preds, columns=['id', 'class', 'predictionstring', 'prob_values', 'before_class', 'after_class'])\n",
    "    count_cand_df = get_target(count_cand_df, count_df, 'Counterclaim')\n",
    "    \n",
    "    \n",
    "    # get rebuttal candidates\n",
    "    class_preds = []\n",
    "    for idx in word_probs_all.keys():\n",
    "        word_probs = word_probs_all[idx]\n",
    "        class_preds += cand_count_reb(idx, word_probs, 9, prob_rebuttal)\n",
    "    reb_cand_df = pd.DataFrame(class_preds, columns=['id', 'class', 'predictionstring', 'prob_values', 'before_class', 'after_class'])\n",
    "    reb_cand_df = get_target(reb_cand_df, reb_df, 'Rebuttal')\n",
    "    \n",
    "    # CANDIDATES\n",
    "    candidates_df = pd.concat((lead_cand_df, pos_cand_df, conc_cand_df, count_cand_df, reb_cand_df, claim_cand_df, evidence_cand_df)).copy()\n",
    "    candidates_df = candidates_df.merge(folds_df, on='id') \n",
    "    \n",
    "    # CREATE FEATURES\n",
    "    candidates_df['class_enc'] = candidates_df['class'].map(discourse_encoder)\n",
    "    candidates_df['mean'] = candidates_df['prob_values'].apply(lambda arr: arr.mean())\n",
    "    candidates_df['num_words'] = candidates_df['prob_values'].apply(lambda arr: arr.size)\n",
    "    candidates_df['max'] = candidates_df['prob_values'].apply(lambda arr: arr.max())\n",
    "    candidates_df['min'] = candidates_df['prob_values'].apply(lambda arr: arr.min())\n",
    "    candidates_df['max_delta'] = candidates_df['prob_values'].apply(lambda arr: get_max_delta(arr))\n",
    "    candidates_df['high_mean'] = candidates_df['prob_values'].apply(lambda arr: high_mean(arr))\n",
    "    \n",
    "    clf = lgb.LGBMClassifier(n_estimators=n_estimators,\n",
    "                             num_leaves=num_leaves,\n",
    "                             max_depth=max_depth,\n",
    "                             min_child_samples=min_child_samples)\n",
    "    \n",
    "    scores = []\n",
    "\n",
    "    for fold_idx in range(5):\n",
    "\n",
    "        fold_filt = (candidates_df['kfold'] == fold_idx)\n",
    "\n",
    "        X_train = candidates_df.loc[~fold_filt, features]\n",
    "        y_train = candidates_df.loc[~fold_filt, 'target']\n",
    "\n",
    "        X_val = candidates_df.loc[fold_filt, features]\n",
    "        y_val = candidates_df.loc[fold_filt, 'target']\n",
    "\n",
    "        clf.fit(X_train, y_train)\n",
    "\n",
    "        y_preds = clf.predict_proba(X_val)\n",
    "        fold_preds = candidates_df[fold_filt].copy()\n",
    "        fold_preds['preds'] = (y_preds[:, 1] >= 0.5)\n",
    "\n",
    "        fold_ids = folds_df.loc[folds_df['kfold'] == fold_idx, 'id']\n",
    "        fold_gt = train_df[train_df['id'].isin(fold_ids)]\n",
    "\n",
    "        score_info = score_feedback_comp(fold_preds[fold_preds['preds'] == True], fold_gt, False)\n",
    "\n",
    "        scores.append(score_info)\n",
    "\n",
    "    scores = np.array(scores)\n",
    "    \n",
    "    return scores.mean()\n"
   ]
  },
  {
   "cell_type": "code",
   "execution_count": 50,
   "metadata": {},
   "outputs": [
    {
     "name": "stderr",
     "output_type": "stream",
     "text": [
      "\u001b[32m[I 2022-03-10 20:34:18,491]\u001b[0m A new study created in memory with name: no-name-a87b41d2-f325-49ea-af4d-bccd9f87a43f\u001b[0m\n",
      "\u001b[32m[I 2022-03-10 20:34:43,359]\u001b[0m Trial 0 finished with value: 0.7076435643353658 and parameters: {'num_leaves': 80, 'max_depth': 19, 'min_child_samples': 200, 'prob_count': 0.39, 'prob_rebuttal': 0.37}. Best is trial 0 with value: 0.7076435643353658.\u001b[0m\n",
      "\u001b[32m[I 2022-03-10 20:35:11,060]\u001b[0m Trial 1 finished with value: 0.7071717460426206 and parameters: {'num_leaves': 60, 'max_depth': 11, 'min_child_samples': 600, 'prob_count': 0.31, 'prob_rebuttal': 0.37}. Best is trial 0 with value: 0.7076435643353658.\u001b[0m\n",
      "\u001b[32m[I 2022-03-10 20:35:37,978]\u001b[0m Trial 2 finished with value: 0.7069826443394842 and parameters: {'num_leaves': 80, 'max_depth': 19, 'min_child_samples': 450, 'prob_count': 0.37, 'prob_rebuttal': 0.39}. Best is trial 0 with value: 0.7076435643353658.\u001b[0m\n",
      "\u001b[32m[I 2022-03-10 20:36:05,138]\u001b[0m Trial 3 finished with value: 0.7071900808488087 and parameters: {'num_leaves': 100, 'max_depth': 11, 'min_child_samples': 350, 'prob_count': 0.37, 'prob_rebuttal': 0.35}. Best is trial 0 with value: 0.7076435643353658.\u001b[0m\n",
      "\u001b[32m[I 2022-03-10 20:36:32,274]\u001b[0m Trial 4 finished with value: 0.7072743993317949 and parameters: {'num_leaves': 80, 'max_depth': 14, 'min_child_samples': 500, 'prob_count': 0.4, 'prob_rebuttal': 0.36}. Best is trial 0 with value: 0.7076435643353658.\u001b[0m\n",
      "\u001b[32m[I 2022-03-10 20:37:00,009]\u001b[0m Trial 5 finished with value: 0.7068490818054274 and parameters: {'num_leaves': 160, 'max_depth': 17, 'min_child_samples': 550, 'prob_count': 0.36, 'prob_rebuttal': 0.3}. Best is trial 0 with value: 0.7076435643353658.\u001b[0m\n",
      "\u001b[32m[I 2022-03-10 20:37:27,810]\u001b[0m Trial 6 finished with value: 0.7073967595482984 and parameters: {'num_leaves': 160, 'max_depth': 15, 'min_child_samples': 200, 'prob_count': 0.3, 'prob_rebuttal': 0.36}. Best is trial 0 with value: 0.7076435643353658.\u001b[0m\n",
      "\u001b[32m[I 2022-03-10 20:37:54,765]\u001b[0m Trial 7 finished with value: 0.7073261524482015 and parameters: {'num_leaves': 120, 'max_depth': 17, 'min_child_samples': 350, 'prob_count': 0.38, 'prob_rebuttal': 0.37}. Best is trial 0 with value: 0.7076435643353658.\u001b[0m\n",
      "\u001b[32m[I 2022-03-10 20:38:21,684]\u001b[0m Trial 8 finished with value: 0.7076233573042863 and parameters: {'num_leaves': 100, 'max_depth': 11, 'min_child_samples': 250, 'prob_count': 0.36, 'prob_rebuttal': 0.39}. Best is trial 0 with value: 0.7076435643353658.\u001b[0m\n",
      "\u001b[32m[I 2022-03-10 20:38:48,947]\u001b[0m Trial 9 finished with value: 0.7070368423049104 and parameters: {'num_leaves': 100, 'max_depth': 20, 'min_child_samples': 250, 'prob_count': 0.37, 'prob_rebuttal': 0.32999999999999996}. Best is trial 0 with value: 0.7076435643353658.\u001b[0m\n",
      "\u001b[32m[I 2022-03-10 20:39:14,240]\u001b[0m Trial 10 finished with value: 0.7067765035038972 and parameters: {'num_leaves': 60, 'max_depth': 18, 'min_child_samples': 350, 'prob_count': 0.32999999999999996, 'prob_rebuttal': 0.32999999999999996}. Best is trial 0 with value: 0.7076435643353658.\u001b[0m\n",
      "\u001b[32m[I 2022-03-10 20:39:40,959]\u001b[0m Trial 11 finished with value: 0.707247545786559 and parameters: {'num_leaves': 120, 'max_depth': 13, 'min_child_samples': 250, 'prob_count': 0.4, 'prob_rebuttal': 0.4}. Best is trial 0 with value: 0.7076435643353658.\u001b[0m\n",
      "\u001b[32m[I 2022-03-10 20:40:08,235]\u001b[0m Trial 12 finished with value: 0.7073055610724281 and parameters: {'num_leaves': 80, 'max_depth': 10, 'min_child_samples': 200, 'prob_count': 0.32999999999999996, 'prob_rebuttal': 0.39}. Best is trial 0 with value: 0.7076435643353658.\u001b[0m\n",
      "\u001b[32m[I 2022-03-10 20:40:35,646]\u001b[0m Trial 13 finished with value: 0.7073809260654277 and parameters: {'num_leaves': 140, 'max_depth': 13, 'min_child_samples': 300, 'prob_count': 0.33999999999999997, 'prob_rebuttal': 0.38}. Best is trial 0 with value: 0.7076435643353658.\u001b[0m\n",
      "\u001b[32m[I 2022-03-10 20:41:02,528]\u001b[0m Trial 14 finished with value: 0.7071736652508467 and parameters: {'num_leaves': 100, 'max_depth': 16, 'min_child_samples': 250, 'prob_count': 0.39, 'prob_rebuttal': 0.4}. Best is trial 0 with value: 0.7076435643353658.\u001b[0m\n",
      "\u001b[32m[I 2022-03-10 20:41:27,753]\u001b[0m Trial 15 finished with value: 0.7072710837658273 and parameters: {'num_leaves': 80, 'max_depth': 12, 'min_child_samples': 200, 'prob_count': 0.35, 'prob_rebuttal': 0.33999999999999997}. Best is trial 0 with value: 0.7076435643353658.\u001b[0m\n",
      "\u001b[32m[I 2022-03-10 20:41:52,420]\u001b[0m Trial 16 finished with value: 0.70727291933475 and parameters: {'num_leaves': 120, 'max_depth': 20, 'min_child_samples': 400, 'prob_count': 0.39, 'prob_rebuttal': 0.38}. Best is trial 0 with value: 0.7076435643353658.\u001b[0m\n",
      "\u001b[32m[I 2022-03-10 20:42:18,611]\u001b[0m Trial 17 finished with value: 0.7073334234450381 and parameters: {'num_leaves': 60, 'max_depth': 15, 'min_child_samples': 300, 'prob_count': 0.35, 'prob_rebuttal': 0.3}. Best is trial 0 with value: 0.7076435643353658.\u001b[0m\n",
      "\u001b[32m[I 2022-03-10 20:42:45,369]\u001b[0m Trial 18 finished with value: 0.7074596038072228 and parameters: {'num_leaves': 100, 'max_depth': 10, 'min_child_samples': 300, 'prob_count': 0.38, 'prob_rebuttal': 0.38}. Best is trial 0 with value: 0.7076435643353658.\u001b[0m\n",
      "\u001b[32m[I 2022-03-10 20:43:12,341]\u001b[0m Trial 19 finished with value: 0.7070614873457464 and parameters: {'num_leaves': 140, 'max_depth': 18, 'min_child_samples': 400, 'prob_count': 0.36, 'prob_rebuttal': 0.36}. Best is trial 0 with value: 0.7076435643353658.\u001b[0m\n",
      "\u001b[32m[I 2022-03-10 20:43:39,377]\u001b[0m Trial 20 finished with value: 0.707332723668542 and parameters: {'num_leaves': 80, 'max_depth': 14, 'min_child_samples': 200, 'prob_count': 0.32, 'prob_rebuttal': 0.39}. Best is trial 0 with value: 0.7076435643353658.\u001b[0m\n",
      "\u001b[32m[I 2022-03-10 20:44:04,064]\u001b[0m Trial 21 finished with value: 0.7074596038072228 and parameters: {'num_leaves': 100, 'max_depth': 10, 'min_child_samples': 300, 'prob_count': 0.38, 'prob_rebuttal': 0.38}. Best is trial 0 with value: 0.7076435643353658.\u001b[0m\n",
      "\u001b[32m[I 2022-03-10 20:44:31,116]\u001b[0m Trial 22 finished with value: 0.707422290997063 and parameters: {'num_leaves': 100, 'max_depth': 11, 'min_child_samples': 250, 'prob_count': 0.38, 'prob_rebuttal': 0.37}. Best is trial 0 with value: 0.7076435643353658.\u001b[0m\n",
      "\u001b[32m[I 2022-03-10 20:44:55,810]\u001b[0m Trial 23 finished with value: 0.7070242331313923 and parameters: {'num_leaves': 120, 'max_depth': 10, 'min_child_samples': 300, 'prob_count': 0.39, 'prob_rebuttal': 0.4}. Best is trial 0 with value: 0.7076435643353658.\u001b[0m\n",
      "\u001b[32m[I 2022-03-10 20:45:20,543]\u001b[0m Trial 24 finished with value: 0.7078473580483552 and parameters: {'num_leaves': 80, 'max_depth': 12, 'min_child_samples': 250, 'prob_count': 0.36, 'prob_rebuttal': 0.38}. Best is trial 24 with value: 0.7078473580483552.\u001b[0m\n",
      "\u001b[32m[I 2022-03-10 20:45:47,805]\u001b[0m Trial 25 finished with value: 0.7075913953279573 and parameters: {'num_leaves': 80, 'max_depth': 12, 'min_child_samples': 250, 'prob_count': 0.36, 'prob_rebuttal': 0.39}. Best is trial 24 with value: 0.7078473580483552.\u001b[0m\n",
      "\u001b[32m[I 2022-03-10 20:46:15,107]\u001b[0m Trial 26 finished with value: 0.7073534791875902 and parameters: {'num_leaves': 60, 'max_depth': 13, 'min_child_samples': 200, 'prob_count': 0.33999999999999997, 'prob_rebuttal': 0.35}. Best is trial 24 with value: 0.7078473580483552.\u001b[0m\n",
      "\u001b[32m[I 2022-03-10 20:46:42,244]\u001b[0m Trial 27 finished with value: 0.707212179996707 and parameters: {'num_leaves': 80, 'max_depth': 12, 'min_child_samples': 450, 'prob_count': 0.33999999999999997, 'prob_rebuttal': 0.37}. Best is trial 24 with value: 0.7078473580483552.\u001b[0m\n",
      "\u001b[32m[I 2022-03-10 20:47:09,518]\u001b[0m Trial 28 finished with value: 0.7078064480421654 and parameters: {'num_leaves': 60, 'max_depth': 14, 'min_child_samples': 250, 'prob_count': 0.36, 'prob_rebuttal': 0.38}. Best is trial 24 with value: 0.7078473580483552.\u001b[0m\n",
      "\u001b[32m[I 2022-03-10 20:47:36,940]\u001b[0m Trial 29 finished with value: 0.7071717460426206 and parameters: {'num_leaves': 60, 'max_depth': 14, 'min_child_samples': 600, 'prob_count': 0.31, 'prob_rebuttal': 0.37}. Best is trial 24 with value: 0.7078473580483552.\u001b[0m\n",
      "\u001b[32m[I 2022-03-10 20:48:03,897]\u001b[0m Trial 30 finished with value: 0.7074621105036065 and parameters: {'num_leaves': 60, 'max_depth': 16, 'min_child_samples': 350, 'prob_count': 0.35, 'prob_rebuttal': 0.36}. Best is trial 24 with value: 0.7078473580483552.\u001b[0m\n",
      "\u001b[32m[I 2022-03-10 20:48:31,344]\u001b[0m Trial 31 finished with value: 0.7078064480421654 and parameters: {'num_leaves': 60, 'max_depth': 12, 'min_child_samples': 250, 'prob_count': 0.36, 'prob_rebuttal': 0.38}. Best is trial 24 with value: 0.7078473580483552.\u001b[0m\n",
      "\u001b[32m[I 2022-03-10 20:48:58,386]\u001b[0m Trial 32 finished with value: 0.707678087510946 and parameters: {'num_leaves': 60, 'max_depth': 12, 'min_child_samples': 200, 'prob_count': 0.36, 'prob_rebuttal': 0.38}. Best is trial 24 with value: 0.7078473580483552.\u001b[0m\n",
      "\u001b[32m[I 2022-03-10 20:49:25,467]\u001b[0m Trial 33 finished with value: 0.7074592529107295 and parameters: {'num_leaves': 60, 'max_depth': 12, 'min_child_samples': 200, 'prob_count': 0.37, 'prob_rebuttal': 0.38}. Best is trial 24 with value: 0.7078473580483552.\u001b[0m\n",
      "\u001b[32m[I 2022-03-10 20:49:52,666]\u001b[0m Trial 34 finished with value: 0.7078064480421654 and parameters: {'num_leaves': 60, 'max_depth': 13, 'min_child_samples': 250, 'prob_count': 0.36, 'prob_rebuttal': 0.38}. Best is trial 24 with value: 0.7078473580483552.\u001b[0m\n",
      "\u001b[32m[I 2022-03-10 20:50:19,927]\u001b[0m Trial 35 finished with value: 0.7072713037428564 and parameters: {'num_leaves': 60, 'max_depth': 13, 'min_child_samples': 300, 'prob_count': 0.37, 'prob_rebuttal': 0.35}. Best is trial 24 with value: 0.7078473580483552.\u001b[0m\n",
      "\u001b[32m[I 2022-03-10 20:50:47,161]\u001b[0m Trial 36 finished with value: 0.7077837689091263 and parameters: {'num_leaves': 80, 'max_depth': 14, 'min_child_samples': 250, 'prob_count': 0.35, 'prob_rebuttal': 0.4}. Best is trial 24 with value: 0.7078473580483552.\u001b[0m\n",
      "\u001b[32m[I 2022-03-10 20:51:14,390]\u001b[0m Trial 37 finished with value: 0.707218922071616 and parameters: {'num_leaves': 60, 'max_depth': 13, 'min_child_samples': 450, 'prob_count': 0.36, 'prob_rebuttal': 0.37}. Best is trial 24 with value: 0.7078473580483552.\u001b[0m\n",
      "\u001b[32m[I 2022-03-10 20:51:41,471]\u001b[0m Trial 38 finished with value: 0.7072706337093738 and parameters: {'num_leaves': 60, 'max_depth': 15, 'min_child_samples': 350, 'prob_count': 0.37, 'prob_rebuttal': 0.39}. Best is trial 24 with value: 0.7078473580483552.\u001b[0m\n",
      "\u001b[32m[I 2022-03-10 20:52:08,632]\u001b[0m Trial 39 finished with value: 0.7074381558457056 and parameters: {'num_leaves': 80, 'max_depth': 11, 'min_child_samples': 550, 'prob_count': 0.33999999999999997, 'prob_rebuttal': 0.36}. Best is trial 24 with value: 0.7078473580483552.\u001b[0m\n",
      "\u001b[32m[I 2022-03-10 20:52:35,764]\u001b[0m Trial 40 finished with value: 0.7071387912630429 and parameters: {'num_leaves': 80, 'max_depth': 14, 'min_child_samples': 250, 'prob_count': 0.37, 'prob_rebuttal': 0.35}. Best is trial 24 with value: 0.7078473580483552.\u001b[0m\n",
      "\u001b[32m[I 2022-03-10 20:53:03,229]\u001b[0m Trial 41 finished with value: 0.7069646960643153 and parameters: {'num_leaves': 80, 'max_depth': 14, 'min_child_samples': 250, 'prob_count': 0.35, 'prob_rebuttal': 0.31}. Best is trial 24 with value: 0.7078473580483552.\u001b[0m\n",
      "\u001b[32m[I 2022-03-10 20:53:30,217]\u001b[0m Trial 42 finished with value: 0.7076368722608967 and parameters: {'num_leaves': 60, 'max_depth': 13, 'min_child_samples': 250, 'prob_count': 0.35, 'prob_rebuttal': 0.4}. Best is trial 24 with value: 0.7078473580483552.\u001b[0m\n",
      "\u001b[32m[I 2022-03-10 20:53:57,342]\u001b[0m Trial 43 finished with value: 0.7075885552137873 and parameters: {'num_leaves': 80, 'max_depth': 14, 'min_child_samples': 300, 'prob_count': 0.36, 'prob_rebuttal': 0.39}. Best is trial 24 with value: 0.7078473580483552.\u001b[0m\n",
      "\u001b[32m[I 2022-03-10 20:54:24,335]\u001b[0m Trial 44 finished with value: 0.7074941131153685 and parameters: {'num_leaves': 60, 'max_depth': 15, 'min_child_samples': 250, 'prob_count': 0.36, 'prob_rebuttal': 0.4}. Best is trial 24 with value: 0.7078473580483552.\u001b[0m\n",
      "\u001b[32m[I 2022-03-10 20:54:49,466]\u001b[0m Trial 45 finished with value: 0.7068911438295168 and parameters: {'num_leaves': 80, 'max_depth': 12, 'min_child_samples': 350, 'prob_count': 0.32999999999999996, 'prob_rebuttal': 0.39}. Best is trial 24 with value: 0.7078473580483552.\u001b[0m\n",
      "\u001b[32m[I 2022-03-10 20:55:14,467]\u001b[0m Trial 46 finished with value: 0.7076274116521509 and parameters: {'num_leaves': 60, 'max_depth': 11, 'min_child_samples': 200, 'prob_count': 0.35, 'prob_rebuttal': 0.38}. Best is trial 24 with value: 0.7078473580483552.\u001b[0m\n",
      "\u001b[32m[I 2022-03-10 20:55:39,255]\u001b[0m Trial 47 finished with value: 0.7076010858830737 and parameters: {'num_leaves': 80, 'max_depth': 13, 'min_child_samples': 300, 'prob_count': 0.37, 'prob_rebuttal': 0.37}. Best is trial 24 with value: 0.7078473580483552.\u001b[0m\n",
      "\u001b[32m[I 2022-03-10 20:56:04,333]\u001b[0m Trial 48 finished with value: 0.7074822320261438 and parameters: {'num_leaves': 60, 'max_depth': 16, 'min_child_samples': 250, 'prob_count': 0.33999999999999997, 'prob_rebuttal': 0.4}. Best is trial 24 with value: 0.7078473580483552.\u001b[0m\n",
      "\u001b[32m[I 2022-03-10 20:56:32,027]\u001b[0m Trial 49 finished with value: 0.7072733192991114 and parameters: {'num_leaves': 80, 'max_depth': 11, 'min_child_samples': 200, 'prob_count': 0.35, 'prob_rebuttal': 0.33999999999999997}. Best is trial 24 with value: 0.7078473580483552.\u001b[0m\n"
     ]
    }
   ],
   "source": [
    "study = optuna.create_study(direction='maximize')\n",
    "study.optimize(objective, n_trials=50, timeout=60000000)"
   ]
  },
  {
   "cell_type": "code",
   "execution_count": 26,
   "metadata": {},
   "outputs": [
    {
     "name": "stdout",
     "output_type": "stream",
     "text": [
      "Study statistics: \n",
      "  Number of finished trials:  50\n",
      "  Number of pruned trials:  0\n",
      "  Number of complete trials:  50\n",
      "Best trial:\n",
      "  Value:  0.7078864121843729\n",
      "  Params: \n",
      "    n_estimators: 4\n",
      "    num_leaves: 120\n",
      "    max_depth: 20\n",
      "    min_child_samples: 300\n",
      "    prob_count: 0.35\n",
      "    prob_rebuttal: 0.35\n"
     ]
    }
   ],
   "source": [
    "pruned_trials = [t for t in study.trials if t.state == optuna.trial.TrialState.PRUNED]\n",
    "complete_trials = [t for t in study.trials if t.state == optuna.trial.TrialState.COMPLETE]\n",
    "print(\"Study statistics: \")\n",
    "print(\"  Number of finished trials: \", len(study.trials))\n",
    "print(\"  Number of pruned trials: \", len(pruned_trials))\n",
    "print(\"  Number of complete trials: \", len(complete_trials))\n",
    "print(\"Best trial:\")\n",
    "trial = study.best_trial\n",
    "print(\"  Value: \", trial.value)\n",
    "print(\"  Params: \")\n",
    "for key, value in trial.params.items():\n",
    "    print(f\"    {key}: {value}\")"
   ]
  },
  {
   "cell_type": "code",
   "execution_count": 27,
   "metadata": {},
   "outputs": [
    {
     "data": {
      "text/plain": [
       "OrderedDict([('n_estimators', 0.8400879210827538),\n",
       "             ('min_child_samples', 0.11285701011605552),\n",
       "             ('num_leaves', 0.016084878950795942),\n",
       "             ('prob_rebuttal', 0.013624143301756394),\n",
       "             ('max_depth', 0.009873577478574473),\n",
       "             ('prob_count', 0.007472469070064077)])"
      ]
     },
     "execution_count": 27,
     "metadata": {},
     "output_type": "execute_result"
    }
   ],
   "source": [
    "optuna.importance.get_param_importances(study)"
   ]
  },
  {
   "cell_type": "markdown",
   "metadata": {},
   "source": [
    "### The rest"
   ]
  },
  {
   "cell_type": "markdown",
   "metadata": {},
   "source": [
    "### Train a model"
   ]
  },
  {
   "cell_type": "code",
   "execution_count": 31,
   "metadata": {},
   "outputs": [],
   "source": [
    "candidates_df = pd.concat((lead_cand_df, pos_cand_df, conc_cand_df, count_cand_df, reb_cand_df, claim_cand_df, evidence_cand_df)).copy()\n",
    "candidates_df = candidates_df.merge(folds_df, on='id')"
   ]
  },
  {
   "cell_type": "markdown",
   "metadata": {},
   "source": [
    "### Make features"
   ]
  },
  {
   "cell_type": "code",
   "execution_count": 36,
   "metadata": {},
   "outputs": [],
   "source": [
    "# CREATE FEATURES\n",
    "candidates_df['class_enc'] = candidates_df['class'].map(discourse_encoder)\n",
    "candidates_df['mean'] = candidates_df['prob_values'].apply(lambda arr: arr.mean())\n",
    "candidates_df['num_words'] = candidates_df['prob_values'].apply(lambda arr: arr.size)\n",
    "candidates_df['max'] = candidates_df['prob_values'].apply(lambda arr: arr.max())\n",
    "candidates_df['min'] = candidates_df['prob_values'].apply(lambda arr: arr.min())\n",
    "candidates_df['max_delta'] = candidates_df['prob_values'].apply(lambda arr: get_max_delta(arr))\n",
    "candidates_df['high_mean'] = candidates_df['prob_values'].apply(lambda arr: high_mean(arr))\n"
   ]
  },
  {
   "cell_type": "markdown",
   "metadata": {},
   "source": [
    "### Train on all the data"
   ]
  },
  {
   "cell_type": "code",
   "execution_count": 37,
   "metadata": {},
   "outputs": [],
   "source": [
    "X = candidates_df[features]\n",
    "y = candidates_df['target']"
   ]
  },
  {
   "cell_type": "code",
   "execution_count": 44,
   "metadata": {},
   "outputs": [],
   "source": [
    "n_estimators = 4\n",
    "num_leaves = 120\n",
    "max_depth = 20\n",
    "min_child_samples = 300\n",
    "\n",
    "clf = lgb.LGBMClassifier(n_estimators=n_estimators, num_leaves=num_leaves, max_depth=max_depth, min_child_samples=min_child_samples).fit(X, y)"
   ]
  },
  {
   "cell_type": "code",
   "execution_count": 45,
   "metadata": {},
   "outputs": [
    {
     "data": {
      "text/plain": [
       "<AxesSubplot:title={'center':'Feature importance'}, xlabel='Feature importance', ylabel='Features'>"
      ]
     },
     "execution_count": 45,
     "metadata": {},
     "output_type": "execute_result"
    },
    {
     "data": {
      "image/png": "[encoded data removed]",
      "text/plain": [
       "<Figure size 432x288 with 1 Axes>"
      ]
     },
     "metadata": {
      "needs_background": "light"
     },
     "output_type": "display_data"
    }
   ],
   "source": [
    "lgb.plot_importance(clf)"
   ]
  },
  {
   "cell_type": "code",
   "execution_count": 46,
   "metadata": {},
   "outputs": [],
   "source": [
    "y_preds = clf.predict_proba(X)"
   ]
  },
  {
   "cell_type": "code",
   "execution_count": 47,
   "metadata": {},
   "outputs": [],
   "source": [
    "fold_preds = candidates_df.copy()\n",
    "fold_preds['preds'] = (y_preds[:, 1] >= 0.5)"
   ]
  },
  {
   "cell_type": "code",
   "execution_count": 48,
   "metadata": {},
   "outputs": [
    {
     "data": {
      "text/plain": [
       "(0.7083683590727805,\n",
       " {'Lead': 0.841349223238987,\n",
       "  'Position': 0.7290548906314486,\n",
       "  'Evidence': 0.7697538389272254,\n",
       "  'Claim': 0.671740011851667,\n",
       "  'Concluding Statement': 0.8729677395783859,\n",
       "  'Counterclaim': 0.5766102645601571,\n",
       "  'Rebuttal': 0.4971025447215923})"
      ]
     },
     "execution_count": 48,
     "metadata": {},
     "output_type": "execute_result"
    }
   ],
   "source": [
    "score_feedback_comp(fold_preds[fold_preds['preds'] == True], train_df, True)"
   ]
  },
  {
   "cell_type": "code",
   "execution_count": null,
   "metadata": {},
   "outputs": [],
   "source": [
    "# (0.7105449396404865,\n",
    "#  {'Lead': 0.8420441347270615,\n",
    "#   'Position': 0.728785586576812,\n",
    "#   'Evidence': 0.7723264803092263,\n",
    "#   'Claim': 0.6706895114223779,\n",
    "#   'Concluding Statement': 0.871722027972028,\n",
    "#   'Counterclaim': 0.5849661560384752,\n",
    "#   'Rebuttal': 0.503280680437424})\n"
   ]
  },
  {
   "cell_type": "code",
   "execution_count": null,
   "metadata": {},
   "outputs": [],
   "source": [
    "# with open('../decoder_2000/decoder_model.pickle', 'wb') as handle:\n",
    "#     pickle.dump(clf, handle, protocol=pickle.HIGHEST_PROTOCOL)"
   ]
  },
  {
   "cell_type": "code",
   "execution_count": null,
   "metadata": {},
   "outputs": [],
   "source": [
    "# the best (lightgbm)\n",
    "# clf = lightgbm.LGBMClassifier(n_estimators=5, num_leaves=50, max_depth=6, min_child_samples=30, reg_lambda=0.005).fit(X_train, y_train)\n",
    "# 0.7099322865966092"
   ]
  },
  {
   "cell_type": "code",
   "execution_count": null,
   "metadata": {},
   "outputs": [],
   "source": []
  },
  {
   "cell_type": "code",
   "execution_count": null,
   "metadata": {},
   "outputs": [],
   "source": []
  },
  {
   "cell_type": "code",
   "execution_count": null,
   "metadata": {},
   "outputs": [],
   "source": []
  },
  {
   "cell_type": "code",
   "execution_count": null,
   "metadata": {},
   "outputs": [],
   "source": []
  }
 ],
 "metadata": {
  "kernelspec": {
   "display_name": "Python 3",
   "language": "python",
   "name": "python3"
  },
  "language_info": {
   "codemirror_mode": {
    "name": "ipython",
    "version": 3
   },
   "file_extension": ".py",
   "mimetype": "text/x-python",
   "name": "python",
   "nbconvert_exporter": "python",
   "pygments_lexer": "ipython3",
   "version": "3.6.6"
  }
 },
 "nbformat": 4,
 "nbformat_minor": 4
}
